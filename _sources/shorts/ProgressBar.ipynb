{
 "cells": [
  {
   "cell_type": "markdown",
   "metadata": {},
   "source": [
    "![Callysto.ca Banner](https://github.com/callysto/curriculum-notebooks/blob/master/callysto-notebook-banner-top.jpg?raw=true)\n",
    "\n",
    "<a href=\"https://hub.callysto.ca/jupyter/hub/user-redirect/git-pull?repo=https%3A%2F%2Fgithub.com%2Fcallysto%2Fshorts&branch=master&subPath=ProgressBar.ipynb&depth=1\" target=\"_parent\"><img src=\"https://raw.githubusercontent.com/callysto/curriculum-notebooks/master/open-in-callysto-button.svg?sanitize=true\" width=\"123\" height=\"24\" alt=\"Open in Callysto\"/></a>"
   ]
  },
  {
   "cell_type": "markdown",
   "metadata": {},
   "source": [
    "# Implementing a progress bar\n",
    "\n",
    "There are times when running code takes a long time. If you are an experienced Jupyter user, you will know that the * symbol on the left-hand side of each cell indicates that the notebook is currently busy with that cell. \n",
    "\n",
    "For someone who has never seen the Jupyter environment before, it can seem as though the notebook is not doing anything. \n",
    "\n",
    "To solve this problem, we implement a visual mechanism that indicates that the notebook is busy along with information on running time. "
   ]
  },
  {
   "cell_type": "markdown",
   "metadata": {},
   "source": [
    "## Basic progress bar\n",
    "\n",
    "We implement a basic version of a progress bar. \n",
    "\n",
    "We will use the for loop syntax and we replace range for tnrange. This is similar to the usual for loop syntax, except tnrange will also allow us to give a description to the loading bar. \n",
    "\n",
    "We will use the sleep command from the time library. "
   ]
  },
  {
   "cell_type": "code",
   "execution_count": null,
   "metadata": {},
   "outputs": [],
   "source": [
    "# Import necessary modules\n",
    "from tqdm import tnrange, tqdm_notebook\n",
    "from time import sleep"
   ]
  },
  {
   "cell_type": "code",
   "execution_count": null,
   "metadata": {},
   "outputs": [],
   "source": [
    "# Basic implementation\n",
    "for i in tnrange(100, desc='Basic Progress Bar'):\n",
    "    startRow = 1 + i*100\n",
    "    sleep(0.01)"
   ]
  },
  {
   "cell_type": "markdown",
   "metadata": {},
   "source": [
    "## Downloading data from a webpage\n",
    "\n",
    "What if we want to download data and want to communicate with the user that this process is taking some time? \n",
    "\n",
    "We will download a series of metadata entries from the [Historical Climate Weather page](http://climate.weather.gc.ca/) as an example"
   ]
  },
  {
   "cell_type": "code",
   "execution_count": null,
   "metadata": {},
   "outputs": [],
   "source": [
    "# Import requests library for downloading data from online database\n",
    "import requests"
   ]
  },
  {
   "cell_type": "code",
   "execution_count": null,
   "metadata": {},
   "outputs": [],
   "source": [
    "# Implementing progress bar when querying data from online database\n",
    "for i in tnrange(100, desc='Downloading Data'):\n",
    "    startRow = 1 + i*100\n",
    "    sleep(0.01)\n",
    "    \n",
    "    base_url = \"http://climate.weather.gc.ca/historical_data/search_historic_data_stations_e.html?\"\n",
    "    queryProvince = \"searchType=stnProv&timeframe=1&lstProvince={}&optLimit=yearRange&\".format(\"BC\")\n",
    "    queryYear = \"StartYear={}&EndYear=2017&Year=2017&Month=5&Day=29&selRowPerPage=100&txtCentralLatMin=0&txtCentralLatSec=0&txtCentralLongMin=0&txtCentralLongSec=0&\".format(\"2017\")\n",
    "    queryStartRow = \"startRow={}\".format(startRow)\n",
    "\n",
    "    response = requests.get(base_url + queryProvince + queryYear + queryStartRow) # Using requests to read the HTML source\n",
    "\n"
   ]
  },
  {
   "cell_type": "markdown",
   "metadata": {},
   "source": [
    "You can learn more about the tqdm package [here](https://pypi.org/project/tqdm/) and the sleep package [here](https://www.tutorialspoint.com/python/time_sleep.htm)."
   ]
  },
  {
   "cell_type": "markdown",
   "metadata": {},
   "source": [
    "[![Callysto.ca License](https://github.com/callysto/curriculum-notebooks/blob/master/callysto-notebook-banner-bottom.jpg?raw=true)](https://github.com/callysto/curriculum-notebooks/blob/master/LICENSE.md)"
   ]
  }
 ],
 "metadata": {
  "kernelspec": {
   "display_name": "Python 3",
   "language": "python",
   "name": "python3"
  },
  "language_info": {
   "codemirror_mode": {
    "name": "ipython",
    "version": 3
   },
   "file_extension": ".py",
   "mimetype": "text/x-python",
   "name": "python",
   "nbconvert_exporter": "python",
   "pygments_lexer": "ipython3",
   "version": "3.7.4"
  }
 },
 "nbformat": 4,
 "nbformat_minor": 2
}
