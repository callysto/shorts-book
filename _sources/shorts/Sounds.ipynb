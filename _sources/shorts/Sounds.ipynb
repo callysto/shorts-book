{
 "cells": [
  {
   "cell_type": "markdown",
   "metadata": {},
   "source": [
    "![Callysto.ca Banner](https://github.com/callysto/curriculum-notebooks/blob/master/callysto-notebook-banner-top.jpg?raw=true)\n",
    "\n",
    "<a href=\"https://hub.callysto.ca/jupyter/hub/user-redirect/git-pull?repo=https%3A%2F%2Fgithub.com%2Fcallysto%2Fshorts&branch=master&subPath=Sounds.ipynb&depth=1\" target=\"_parent\"><img src=\"https://raw.githubusercontent.com/callysto/curriculum-notebooks/master/open-in-callysto-button.svg?sanitize=true\" width=\"123\" height=\"24\" alt=\"Open in Callysto\"/></a>"
   ]
  },
  {
   "cell_type": "markdown",
   "metadata": {},
   "source": [
    "# Including music and sounds\n",
    "\n",
    "Music and sounds on a computer are stored as data files, usually with the file types .wav or .mp3. You can upload such a file onto your Jupyter hub account, and then access it with HTML code or a call to Python tools.\n",
    "\n",
    "We give four examples to show the basics of how this works.\n"
   ]
  },
  {
   "cell_type": "markdown",
   "metadata": {},
   "source": [
    "## Example 1 - A local .wav file using html\n",
    "\n",
    "We have uploaded a short music file onto this repo, called KolnShort.wav (a clip from Keith Jarret's Koln concert). \n",
    "\n",
    "A few lines of html code will create a tool on the screen, click to play. "
   ]
  },
  {
   "cell_type": "code",
   "execution_count": null,
   "metadata": {},
   "outputs": [],
   "source": [
    "%%html\n",
    "<audio controls>\n",
    "  <source src=\"KolnShort.wav\" type=\"audio/wav\">\n",
    "Your browser does not support the audio element.\n",
    "</audio>"
   ]
  },
  {
   "cell_type": "markdown",
   "metadata": {},
   "source": [
    "## Example 2 - A remote .wav file using html\n",
    "\n",
    "You can also access a .wav stored online, and play it. Here we grab a short clip from an online resource at Stanford.\n",
    "\n",
    "A few lines of html code will create a tool on the screen, click to play. "
   ]
  },
  {
   "cell_type": "code",
   "execution_count": null,
   "metadata": {},
   "outputs": [],
   "source": [
    "%%html\n",
    "<audio controls>\n",
    "  <source src=\"https://ccrma.stanford.edu/workshops/mir2014/audio/T37-vibraphone-8k.wav\" type=\"audio/wav\">\n",
    "Your browser does not support the audio element.\n",
    "</audio>"
   ]
  },
  {
   "cell_type": "markdown",
   "metadata": {},
   "source": [
    "## Example 3 - Python code to play a .wav sound\n",
    "\n",
    "We can import a tool and play the sound within Python code, avoiding the HTML magic above. It works about the same. "
   ]
  },
  {
   "cell_type": "code",
   "execution_count": null,
   "metadata": {},
   "outputs": [],
   "source": [
    "from IPython.display import Audio  ## only import once per notebook\n",
    "\n",
    "Audio(data='KolnShort.wav')"
   ]
  },
  {
   "cell_type": "markdown",
   "metadata": {},
   "source": [
    "## Example 4 - Python code to play a remote .wav sound\n",
    "\n",
    "We can also use Python code to play a clip of sound from an online resource. It works about the same as the last example. "
   ]
  },
  {
   "cell_type": "code",
   "execution_count": null,
   "metadata": {},
   "outputs": [],
   "source": [
    "Audio(data='https://ccrma.stanford.edu/workshops/mir2014/audio/T37-vibraphone-8k.wav')"
   ]
  },
  {
   "cell_type": "markdown",
   "metadata": {},
   "source": [
    "If you want to dive deeper into music and sound using Python on the computer, a good resource is here: https://musicinformationretrieval.com/ipython_audio.html"
   ]
  },
  {
   "cell_type": "markdown",
   "metadata": {},
   "source": [
    "[![Callysto.ca License](https://github.com/callysto/curriculum-notebooks/blob/master/callysto-notebook-banner-bottom.jpg?raw=true)](https://github.com/callysto/curriculum-notebooks/blob/master/LICENSE.md)"
   ]
  }
 ],
 "metadata": {
  "kernelspec": {
   "display_name": "Python 3",
   "language": "python",
   "name": "python3"
  },
  "language_info": {
   "codemirror_mode": {
    "name": "ipython",
    "version": 3
   },
   "file_extension": ".py",
   "mimetype": "text/x-python",
   "name": "python",
   "nbconvert_exporter": "python",
   "pygments_lexer": "ipython3",
   "version": "3.7.4"
  }
 },
 "nbformat": 4,
 "nbformat_minor": 2
}
