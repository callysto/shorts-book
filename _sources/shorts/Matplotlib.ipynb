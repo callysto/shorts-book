{
 "cells": [
  {
   "cell_type": "markdown",
   "metadata": {},
   "source": [
    "![Callysto.ca Banner](https://github.com/callysto/curriculum-notebooks/blob/master/callysto-notebook-banner-top.jpg?raw=true)\n",
    "\n",
    "<a href=\"https://hub.callysto.ca/jupyter/hub/user-redirect/git-pull?repo=https%3A%2F%2Fgithub.com%2Fcallysto%2Fshorts&branch=master&subPath=Matplotlib.ipynb&depth=1\" target=\"_parent\"><img src=\"https://raw.githubusercontent.com/callysto/curriculum-notebooks/master/open-in-callysto-button.svg?sanitize=true\" width=\"123\" height=\"24\" alt=\"Open in Callysto\"/></a>"
   ]
  },
  {
   "cell_type": "markdown",
   "metadata": {
    "slideshow": {
     "slide_type": "fragment"
    }
   },
   "source": [
    "# Plotting with matplotlib\n",
    "\n",
    "Matplotlib is a rich collection of commands to create mathematical plots in a Jupyter notebook. It is best to search online for extensive examples.\n",
    "\n",
    "In this notebook, we will just touch on the basics, to get you started. Read online to get many more examples and details. \n",
    "\n",
    "Inside Matplotlib is a module called pyplot, that does most of the work for us. This is the module that will be loaded into the notebook before plotting. \n",
    "\n",
    "It is also important to tell the notebook that you want your plots to appear \"inline\", which is to say they will appear in a cell inside your notebook. The following two commands set this up for you."
   ]
  },
  {
   "cell_type": "code",
   "execution_count": null,
   "metadata": {},
   "outputs": [],
   "source": [
    "%matplotlib inline\n",
    "from matplotlib.pyplot import *"
   ]
  },
  {
   "cell_type": "markdown",
   "metadata": {},
   "source": [
    "## Example 1. A simple plot\n",
    "\n",
    "We plot five data points, connecting with lines.\n",
    "\n",
    "Note the semicolon after the plot command. It removes some extraneous message from the computer. "
   ]
  },
  {
   "cell_type": "code",
   "execution_count": null,
   "metadata": {},
   "outputs": [],
   "source": [
    "plot([1,2,2,3,5]);"
   ]
  },
  {
   "cell_type": "markdown",
   "metadata": {},
   "source": [
    "## Example 2. Another simple plot\n",
    "\n",
    "We plot five data points, marked with circles."
   ]
  },
  {
   "cell_type": "code",
   "execution_count": null,
   "metadata": {},
   "outputs": [],
   "source": [
    "plot([1,2,2,3,5],'o');"
   ]
  },
  {
   "cell_type": "markdown",
   "metadata": {},
   "source": [
    "## Example 3. Another simple plot, with x and y values\n",
    "\n",
    "We plot five data points, y versus x, marked with circles. \n",
    "\n",
    "Note the x axis now starts at coordinate x=1."
   ]
  },
  {
   "cell_type": "code",
   "execution_count": null,
   "metadata": {},
   "outputs": [],
   "source": [
    "x = [1,2,3,4,5]\n",
    "y = [1,2,2,3,5]\n",
    "plot(x,y,'o');"
   ]
  },
  {
   "cell_type": "markdown",
   "metadata": {},
   "source": [
    "## Example 4. We can also do bar plots\n",
    "\n",
    "We plot five data points, y versus x, as a bar chart. We also will add a title and axis labels."
   ]
  },
  {
   "cell_type": "code",
   "execution_count": null,
   "metadata": {},
   "outputs": [],
   "source": [
    "x = [1,2,3,4,5]\n",
    "y = [1,2,2,3,5]\n",
    "bar(x,y);\n",
    "title(\"Hey, this is my bar chart\");\n",
    "xlabel(\"x values\");\n",
    "ylabel(\"y values\");"
   ]
  },
  {
   "cell_type": "markdown",
   "metadata": {},
   "source": [
    "## Example 5. Object oriented plotting\n",
    "\n",
    "For more precise control of your plotting effort, you can create a figure and axis object, and modify it as necessary. Best to read up on this online, but here is the baseic example.\n",
    "\n",
    "We plot five data points, y versus x, by attaching them to the figure or axis object, as appropriate."
   ]
  },
  {
   "cell_type": "code",
   "execution_count": null,
   "metadata": {},
   "outputs": [],
   "source": [
    "fig, ax = subplots()\n",
    "ax.plot([1,2,3,4,5], [1,2,2,3,5], 'o')\n",
    "ax.set_title('Object oriented version of plotting');\n",
    "show()"
   ]
  },
  {
   "cell_type": "markdown",
   "metadata": {},
   "source": [
    "## Example 6: More mathematical plotting\n",
    "\n",
    "Matplotlib likes to work with Numpy (numerical Python), which gives us arrays and mathematical functions like sine and cosine. \n",
    "\n",
    "We must first import the numpy module. I'll do it in the next cell, but keep in mind you can also include it up above when we loaded in matplotlib.\n",
    "\n",
    "We then create an array of x values, running from 0 to 1, then evaluate the sine function on those values. We then do an x,y plot of the function. \n",
    "\n",
    "As follows:"
   ]
  },
  {
   "cell_type": "code",
   "execution_count": null,
   "metadata": {},
   "outputs": [],
   "source": [
    "from numpy import *\n",
    "x = linspace(0,1)\n",
    "y = sin(2*pi*x)\n",
    "plot(x,y);\n",
    "title(\"One period of the sine function\")\n",
    "xlabel(\"x values\")\n",
    "ylabel(\"sin(2 pi x) values\");"
   ]
  },
  {
   "cell_type": "markdown",
   "metadata": {},
   "source": [
    "## Example 7: Math notation in labels\n",
    "\n",
    "Just for fun, we note that Latex can be used in the the plot labels, so you can make your graphs looks more profession. The key is to use the\"$\" delimiter to identify a section of text that is to be typeset as if in Latex. \n",
    "\n",
    "Check out these labels:\n"
   ]
  },
  {
   "cell_type": "code",
   "execution_count": null,
   "metadata": {},
   "outputs": [],
   "source": [
    "x = linspace(0,1)\n",
    "y = sin(2*pi*x)\n",
    "plot(x,y);\n",
    "title(\"One period of the function $\\sin(2 \\pi x)$\")\n",
    "xlabel(\"$x$ values\")\n",
    "ylabel(\"$\\sin(2 \\pi x)$ values\");"
   ]
  },
  {
   "cell_type": "markdown",
   "metadata": {},
   "source": [
    "[![Callysto.ca License](https://github.com/callysto/curriculum-notebooks/blob/master/callysto-notebook-banner-bottom.jpg?raw=true)](https://github.com/callysto/curriculum-notebooks/blob/master/LICENSE.md)"
   ]
  }
 ],
 "metadata": {
  "kernelspec": {
   "display_name": "Python 3",
   "language": "python",
   "name": "python3"
  },
  "language_info": {
   "codemirror_mode": {
    "name": "ipython",
    "version": 3
   },
   "file_extension": ".py",
   "mimetype": "text/x-python",
   "name": "python",
   "nbconvert_exporter": "python",
   "pygments_lexer": "ipython3",
   "version": "3.7.4"
  }
 },
 "nbformat": 4,
 "nbformat_minor": 2
}
