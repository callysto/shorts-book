{
 "cells": [
  {
   "cell_type": "markdown",
   "metadata": {},
   "source": [
    "![Callysto.ca Banner](https://github.com/callysto/curriculum-notebooks/blob/master/callysto-notebook-banner-top.jpg?raw=true)\n",
    "\n",
    "<a href=\"https://hub.callysto.ca/jupyter/hub/user-redirect/git-pull?repo=https%3A%2F%2Fgithub.com%2Fcallysto%2Fshorts&branch=master&subPath=WebGL.ipynb&depth=1\" target=\"_parent\"><img src=\"https://raw.githubusercontent.com/callysto/curriculum-notebooks/master/open-in-callysto-button.svg?sanitize=true\" width=\"123\" height=\"24\" alt=\"Open in Callysto\"/></a>"
   ]
  },
  {
   "cell_type": "markdown",
   "metadata": {
    "slideshow": {
     "slide_type": "slide"
    }
   },
   "source": [
    "# Including WebGL animations\n",
    "\n",
    "WebGL is used for 3D animation, making good use of any graphics acceleration and hardware available to the computer. WebGL is based on OpenGL, a rich graphics language for high performance visualizations. \n",
    "\n",
    "A WebGL-compatible web browser is required, such as FireFox or Safari. As of January 2020, Google Chrome is unfortunately not compatible.\n",
    "\n",
    "This notebook, is not meant to be an introduction to WebGL. All we do is show how to use it in a Jupyter notebook.\n",
    "\n",
    "The key is to use HTML magic and iframes to include the notebook. \n",
    "\n",
    "In this example, we need three files to get this to work:\n",
    "\n",
    "- webgl-demo.html (the file that iframe will load)\n",
    "- webgl-demo.js (the javascript that creates the animation)\n",
    "- gl-matrix.js  (some helper code for 3D work)\n",
    "\n",
    "These are all loaded in this repo. \n",
    "\n",
    "The key piece of code to display the animation looks like this:\n",
    "```\n",
    "%%html\n",
    "<iframe src=\"webgl-demo.html\" width=\"500\" height=500></iframe>\n",
    "```\n",
    "\n",
    "I'll run it just below. And further below, I will show you the code in the 3 files.\n",
    "\n",
    "Note this code is based on the examples in this repo:  https://github.com/mdn/webgl-examples/tree/gh-pages/tutorial\n"
   ]
  },
  {
   "cell_type": "markdown",
   "metadata": {
    "slideshow": {
     "slide_type": "fragment"
    }
   },
   "source": [
    "## Example 1\n",
    "\n",
    "Here is the animation."
   ]
  },
  {
   "cell_type": "code",
   "execution_count": null,
   "metadata": {},
   "outputs": [],
   "source": [
    "%%html\n",
    "<iframe src=\"webgl-demo.html\" width=\"500\" height=500></iframe>"
   ]
  },
  {
   "cell_type": "markdown",
   "metadata": {},
   "source": [
    "## Html file\n",
    "\n",
    "Here is the content of the file \"webgl-demo.html\"\n",
    "\n",
    "Note to edit this file in the Jupyter hub, you will need to change the file type to \".txt\", edit it and save, then rename as a \".html\" file. Not sure why, but it is a useful hack for editing special files.\n",
    "```\n",
    "<head>\n",
    "    <meta charset=\"utf-8\">\n",
    "    <title>WebGL Demo</title>\n",
    "  </head>\n",
    "\n",
    "  <body>\n",
    "    <canvas id=\"glcanvas\" width=\"640\" height=\"480\"></canvas>\n",
    "  </body>\n",
    "\n",
    "  <script src=\"gl-matrix.js\"></script>\n",
    "  <script src=\"webgl-demo.js\"></script>\n",
    "```"
   ]
  },
  {
   "cell_type": "markdown",
   "metadata": {},
   "source": [
    "## Webgl Javascript file\n",
    "\n",
    "Here is the start of the content of the file Webgl-demo.js, which is a bunch of javascript to set up the animation. It's pretty long and complex, so you would need to learn to write in Webgl, or borrow someone else's code. \n",
    "```\n",
    "var squareRotation = 0.0;\n",
    "\n",
    "main();\n",
    "\n",
    "//\n",
    "// Start here\n",
    "//\n",
    "function main() {\n",
    "  const canvas = document.querySelector('#glcanvas');\n",
    "  const gl = canvas.getContext('webgl');\n",
    "....\n",
    "```"
   ]
  },
  {
   "cell_type": "markdown",
   "metadata": {},
   "source": [
    "## gl-matrix.js helper file\n",
    "\n",
    "Finally, here is the start of the content of the file gl-matrix.js, which is a bunch of javascript to facilitate animation. It's pretty long and complex. Note the copyright notice, it comes from Brandon Jones and Colin MacKenzie. \n",
    "```\n",
    "/**\n",
    " * @fileoverview gl-matrix - High performance matrix and vector operations\n",
    " * @author Brandon Jones\n",
    " * @author Colin MacKenzie IV\n",
    " * @version 2.4.0\n",
    " */\n",
    "\n",
    "/* Copyright (c) 2015, Brandon Jones, Colin MacKenzie IV.\n",
    "Permission is hereby granted, free of charge, to any person obtaining a copy\n",
    "of this software and associated documentation files (the \"Software\"), \n",
    "...\n",
    "```"
   ]
  },
  {
   "cell_type": "markdown",
   "metadata": {},
   "source": [
    "[![Callysto.ca License](https://github.com/callysto/curriculum-notebooks/blob/master/callysto-notebook-banner-bottom.jpg?raw=true)](https://github.com/callysto/curriculum-notebooks/blob/master/LICENSE.md)"
   ]
  }
 ],
 "metadata": {
  "kernelspec": {
   "display_name": "Python 3",
   "language": "python",
   "name": "python3"
  },
  "language_info": {
   "codemirror_mode": {
    "name": "ipython",
    "version": 3
   },
   "file_extension": ".py",
   "mimetype": "text/x-python",
   "name": "python",
   "nbconvert_exporter": "python",
   "pygments_lexer": "ipython3",
   "version": "3.7.4"
  }
 },
 "nbformat": 4,
 "nbformat_minor": 2
}
