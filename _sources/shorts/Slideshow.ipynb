{
 "cells": [
  {
   "cell_type": "markdown",
   "metadata": {},
   "source": [
    "![Callysto.ca Banner](https://github.com/callysto/curriculum-notebooks/blob/master/callysto-notebook-banner-top.jpg?raw=true)\n",
    "\n",
    "<a href=\"https://hub.callysto.ca/jupyter/hub/user-redirect/git-pull?repo=https%3A%2F%2Fgithub.com%2Fcallysto%2Fshorts&branch=master&subPath=Slideshow.ipynb&depth=1\" target=\"_parent\"><img src=\"https://raw.githubusercontent.com/callysto/curriculum-notebooks/master/open-in-callysto-button.svg?sanitize=true\" width=\"123\" height=\"24\" alt=\"Open in Callysto\"/></a>"
   ]
  },
  {
   "cell_type": "markdown",
   "metadata": {
    "slideshow": {
     "slide_type": "slide"
    }
   },
   "source": [
    "# Slideshows\n",
    "\n",
    "Any Jupyter notebook is ready to be converted into a slideshow. The main thing to keep in mind is that each cell can potentially be a slide, so don't make your cells too big. Otherwise, they might not display well.\n",
    "\n",
    "## Note:\n",
    "In a Jupyter Book, this may not display well. You should run it in the Callysto Hub to really see it. Click on the \"Open in Callysto\" button above.\n"
   ]
  },
  {
   "cell_type": "markdown",
   "metadata": {
    "slideshow": {
     "slide_type": "slide"
    }
   },
   "source": [
    "There is an icon on the menu bar of your notebook (like this notebook) that looks something like a bar chart. Here is a picture of it, zoomed in and circled in red. \n",
    "\n",
    "<img src=\"RISE.png\" alt=\"drawing\" width=\"200\"/>"
   ]
  },
  {
   "cell_type": "markdown",
   "metadata": {
    "slideshow": {
     "slide_type": "slide"
    }
   },
   "source": [
    "Clicking on that icon toggles your notebook into slideshow mode. \n",
    "\n",
    "Simple, right?\n",
    "\n",
    "To get out of slideshow mode, you just click on the big X onthe top left corner of your slideshow."
   ]
  },
  {
   "cell_type": "markdown",
   "metadata": {
    "slideshow": {
     "slide_type": "slide"
    }
   },
   "source": [
    "## Next Step:\n",
    "\n",
    "To decide which cells will become slides in your slideshow, you first must go to the \"View\" menu at the top of the notebook, and select the item \"Cell Toolbar --> Slideshow.\""
   ]
  },
  {
   "cell_type": "markdown",
   "metadata": {
    "slideshow": {
     "slide_type": "slide"
    }
   },
   "source": [
    "## Final step\n",
    "\n",
    "Now you go through each cell in the notebook, and select what \"Slide Type\" it should be. The choices are\n",
    "- Slide\n",
    "- Subslide\n",
    "- Fragment\n",
    "- Skip\n",
    "- Notes"
   ]
  },
  {
   "cell_type": "markdown",
   "metadata": {
    "slideshow": {
     "slide_type": "slide"
    }
   },
   "source": [
    "## Experiment!\n",
    "\n",
    "Rather than me telling you what these are, you should just experiment yourself. Use the arrows on the screen to navigate."
   ]
  },
  {
   "cell_type": "markdown",
   "metadata": {
    "slideshow": {
     "slide_type": "slide"
    }
   },
   "source": [
    "## This is a slide.\n",
    "\n",
    "Hi there! Try the down arrow!"
   ]
  },
  {
   "cell_type": "markdown",
   "metadata": {
    "slideshow": {
     "slide_type": "subslide"
    }
   },
   "source": [
    "## This is a subslide.\n",
    "\n",
    "Hi there!"
   ]
  },
  {
   "cell_type": "markdown",
   "metadata": {
    "slideshow": {
     "slide_type": "slide"
    }
   },
   "source": [
    "## This is another slide.\n",
    "\n",
    "Hi there! Try the down arrow!"
   ]
  },
  {
   "cell_type": "markdown",
   "metadata": {
    "slideshow": {
     "slide_type": "fragment"
    }
   },
   "source": [
    "### This is a fragment.\n",
    "\n",
    "Hi there!"
   ]
  },
  {
   "cell_type": "markdown",
   "metadata": {
    "slideshow": {
     "slide_type": "skip"
    }
   },
   "source": [
    "## This is a skipped slide.\n",
    "\n",
    "Hi there!"
   ]
  },
  {
   "cell_type": "markdown",
   "metadata": {
    "slideshow": {
     "slide_type": "notes"
    }
   },
   "source": [
    "## This is a note slide.\n",
    "\n",
    "Hi there!"
   ]
  },
  {
   "cell_type": "code",
   "execution_count": null,
   "metadata": {
    "slideshow": {
     "slide_type": "slide"
    }
   },
   "outputs": [],
   "source": [
    "## Of course you can have code:\n",
    "print(1,2,3)"
   ]
  },
  {
   "cell_type": "markdown",
   "metadata": {
    "slideshow": {
     "slide_type": "slide"
    }
   },
   "source": [
    "## Final note\n",
    "\n",
    "You likely will want to redo many of your cells, so they fit in the slideshow nicely. Note that you can edit and run cells WHILE IN SLIDESHOW mode. Very cool -- can't do that in PowerPoint!"
   ]
  },
  {
   "cell_type": "markdown",
   "metadata": {
    "slideshow": {
     "slide_type": "slide"
    }
   },
   "source": [
    "## The end!!"
   ]
  },
  {
   "cell_type": "markdown",
   "metadata": {},
   "source": [
    "[![Callysto.ca License](https://github.com/callysto/curriculum-notebooks/blob/master/callysto-notebook-banner-bottom.jpg?raw=true)](https://github.com/callysto/curriculum-notebooks/blob/master/LICENSE.md)"
   ]
  }
 ],
 "metadata": {
  "celltoolbar": "Slideshow",
  "kernelspec": {
   "display_name": "Python 3",
   "language": "python",
   "name": "python3"
  },
  "language_info": {
   "codemirror_mode": {
    "name": "ipython",
    "version": 3
   },
   "file_extension": ".py",
   "mimetype": "text/x-python",
   "name": "python",
   "nbconvert_exporter": "python",
   "pygments_lexer": "ipython3",
   "version": "3.7.4"
  }
 },
 "nbformat": 4,
 "nbformat_minor": 2
}
