{
 "cells": [
  {
   "cell_type": "markdown",
   "metadata": {},
   "source": [
    "![Callysto.ca Banner](https://github.com/callysto/curriculum-notebooks/blob/master/callysto-notebook-banner-top.jpg?raw=true)\n",
    "\n",
    "<a href=\"https://hub.callysto.ca/jupyter/hub/user-redirect/git-pull?repo=https%3A%2F%2Fgithub.com%2Fcallysto%2Fshorts&branch=master&subPath=Slideshow2Callysto.ipynb&depth=1\" target=\"_parent\"><img src=\"https://raw.githubusercontent.com/callysto/curriculum-notebooks/master/open-in-callysto-button.svg?sanitize=true\" width=\"123\" height=\"24\" alt=\"Open in Callysto\"/></a>"
   ]
  },
  {
   "cell_type": "markdown",
   "metadata": {
    "slideshow": {
     "slide_type": "slide"
    }
   },
   "source": [
    "# <center> An Awesome Slide Show </center>\n",
    "\n",
    "## <center> Michael Lamoureux </center>\n",
    "\n",
    "### <center> November 14, 2018 </center>"
   ]
  },
  {
   "cell_type": "markdown",
   "metadata": {
    "slideshow": {
     "slide_type": "slide"
    }
   },
   "source": [
    "## Introduction\n",
    "\n",
    "The goal here is to show a slideshow that is BETTER than BEAMER.\n",
    "\n",
    "We can use Metadata and CSS files to customize the slideshow.\n",
    "\n",
    "Use \"Space bar\" to advance the slides, \"SHIFT-Space\" to go backwards.\n",
    "\n",
    "Use \"w\" to get an overview of all your slides. "
   ]
  },
  {
   "cell_type": "markdown",
   "metadata": {
    "slideshow": {
     "slide_type": "slide"
    }
   },
   "source": [
    "## Note on RISE:\n",
    "\n",
    "You may need to install RISE first. https://rise.readthedocs.io/en/stable/\n",
    "\n",
    "However, it is already installed for you on the Callysto hub."
   ]
  },
  {
   "cell_type": "markdown",
   "metadata": {
    "slideshow": {
     "slide_type": "slide"
    }
   },
   "source": [
    "## Note:\n",
    "\n",
    "When creating the slideshow, use the \"View\" menu to select \"Cell Toolbar/Slideshow.\" \n",
    "\n",
    "Then each cell can be idenfied as a Slide, Sub-Slide, Fragment, etc.\n",
    "\n",
    "To switch into \"Display\" mode, click on the Slideshow icon in the menu bar.\n",
    "\n",
    "<img src=\"Slideshow.png\" alt=\"Slideshow icon\" width=\"100\" class=\"center\" />\n"
   ]
  },
  {
   "cell_type": "markdown",
   "metadata": {
    "slideshow": {
     "slide_type": "slide"
    }
   },
   "source": [
    "You need to edit the notebook's metadata. Go to \"Edit\" menu in the notebook to find this.\n",
    "\n",
    "Here is what I added at the bottom of the metadata file. \n",
    "```\n",
    "{\n",
    "  ...\n",
    "  },\n",
    "  \"livereveal\": {\n",
    "    \"autolaunch\": true,\n",
    "    \"backimage\": \"RockiesCallysto.jpg\",\n",
    "    \"footer\": \"<h3>M. Lamoureux, Callysto </h3>\",\n",
    "    \"header\": \"<h1>Awesome Show</h1>\"\n",
    "  }\n",
    "}\n",
    "```\n",
    "Make sure you save the notebook after you make these changes. The background image has to be in the folder. "
   ]
  },
  {
   "cell_type": "markdown",
   "metadata": {
    "slideshow": {
     "slide_type": "slide"
    }
   },
   "source": [
    "You can replace the background image with a theme. Some themes you might like to try:\n",
    "\n",
    "- beige, black, blood, league, moon, night, serif, simple, sky, solarized, white.\n",
    "\n",
    "Enter this in the Metadata as \"theme\" : \"sky\""
   ]
  },
  {
   "cell_type": "markdown",
   "metadata": {
    "slideshow": {
     "slide_type": "slide"
    }
   },
   "source": [
    "There are also files **rise.css** (for all notebooks in folder) and **Slideshow_Callysto.css** (for just this one notebook) that you can edit to make changes to the formatting. "
   ]
  },
  {
   "cell_type": "markdown",
   "metadata": {
    "slideshow": {
     "slide_type": "slide"
    }
   },
   "source": [
    "Here is what I put in **Slideshow_Callysto.css** to adjust the header and footer.\n",
    "```\n",
    "#rise-header {\n",
    "    margin: 10px;\n",
    "    left: 10%;\n",
    "}\n",
    "#rise-footer {\n",
    "    margin: 10px;\n",
    "    right: 10%;\n",
    "}\n",
    "#rise-backimage {\n",
    "    opacity: 0.50;\n",
    "}\n",
    "```\n"
   ]
  },
  {
   "cell_type": "markdown",
   "metadata": {
    "slideshow": {
     "slide_type": "slide"
    }
   },
   "source": [
    "Here is what I put in **rise.css** to adjust font sizes (for fun).\n",
    "```\n",
    "body.rise-enabled div.inner_cell>div.text_cell_render.rendered_html {\n",
    "    font-size: 90%;\n",
    "}\n",
    "div.inner_cell>div.text_cell_render.rendered_html>pre {\n",
    "    margin: 0px;\n",
    "}\n",
    "div.inner_cell>div.text_cell_render.rendered_html>pre>code {\n",
    "    font-size: 90%;\n",
    "}\n",
    "```"
   ]
  },
  {
   "cell_type": "markdown",
   "metadata": {
    "slideshow": {
     "slide_type": "slide"
    }
   },
   "source": [
    "## Further details\n",
    "\n",
    "### Notes on customizing your slideshow:\n",
    "\n",
    "[https://rise.readthedocs.io/en/docs_hot_fixes/customize.html](https://rise.readthedocs.io/en/docs_hot_fixes/customize.html)\n",
    "\n",
    "Note it works well when customization is done in the Metadata. Not so well in the CSS files, in my experience."
   ]
  },
  {
   "cell_type": "markdown",
   "metadata": {
    "slideshow": {
     "slide_type": "slide"
    }
   },
   "source": [
    "## Why bother?\n",
    "\n",
    "The point is I can do beautiful math like this:\n",
    "\n",
    "$$E = mc^2, \\mbox{ or } \\int_{-\\pi}^{\\pi} \\sin(x) dx = 0.$$\n",
    "\n",
    "I can even put in live code directly.\n",
    "For instance, here we compute the Fibonacci numbers.\n"
   ]
  },
  {
   "cell_type": "code",
   "execution_count": null,
   "metadata": {
    "slideshow": {
     "slide_type": "fragment"
    }
   },
   "outputs": [],
   "source": [
    "fib = [0,1]\n",
    "for i in range(2,20):\n",
    "    fib.append( fib[i-1]+fib[i-2] )\n",
    "    \n",
    "print(fib)"
   ]
  },
  {
   "cell_type": "markdown",
   "metadata": {},
   "source": [
    "[![Callysto.ca License](https://github.com/callysto/curriculum-notebooks/blob/master/callysto-notebook-banner-bottom.jpg?raw=true)](https://github.com/callysto/curriculum-notebooks/blob/master/LICENSE.md)"
   ]
  }
 ],
 "metadata": {
  "celltoolbar": "Slideshow",
  "kernelspec": {
   "display_name": "Python 3",
   "language": "python",
   "name": "python3"
  },
  "language_info": {
   "codemirror_mode": {
    "name": "ipython",
    "version": 3
   },
   "file_extension": ".py",
   "mimetype": "text/x-python",
   "name": "python",
   "nbconvert_exporter": "python",
   "pygments_lexer": "ipython3",
   "version": "3.7.4"
  },
  "livereveal": {
   "autolaunch": true,
   "backimage": "RockiesCallysto.jpg",
   "footer": "<h3>M. Lamoureux, Callysto </h3>",
   "header": "<h1>Awesome Show</h1>"
  }
 },
 "nbformat": 4,
 "nbformat_minor": 2
}
