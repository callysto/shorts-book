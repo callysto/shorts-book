{
 "cells": [
  {
   "cell_type": "markdown",
   "metadata": {},
   "source": [
    "![Callysto.ca Banner](https://github.com/callysto/curriculum-notebooks/blob/master/callysto-notebook-banner-top.jpg?raw=true)\n",
    "\n",
    "<a href=\"https://hub.callysto.ca/jupyter/hub/user-redirect/git-pull?repo=https%3A%2F%2Fgithub.com%2Fcallysto%2Fshorts&branch=master&subPath=Widgets.ipynb&depth=1\" target=\"_parent\"><img src=\"https://raw.githubusercontent.com/callysto/curriculum-notebooks/master/open-in-callysto-button.svg?sanitize=true\" width=\"123\" height=\"24\" alt=\"Open in Callysto\"/></a>"
   ]
  },
  {
   "cell_type": "markdown",
   "metadata": {},
   "source": [
    "# Widgets for interactive notebooks.\n",
    "\n",
    "Widgets are a quick way to get interactivity in your Jupyter displays. They include graphical user interface tools like sliders, check boxes, and more. \n",
    "\n",
    "Jupyter has its own version of widgets, based on Python widgets. We use the **interact** command to access them.\n",
    "\n",
    "We do a simple import to access the interact tool for widgets. "
   ]
  },
  {
   "cell_type": "code",
   "execution_count": null,
   "metadata": {},
   "outputs": [],
   "source": [
    "from ipywidgets import interact"
   ]
  },
  {
   "cell_type": "markdown",
   "metadata": {},
   "source": [
    "**First** we define a simple function that the widgets will activate."
   ]
  },
  {
   "cell_type": "code",
   "execution_count": null,
   "metadata": {},
   "outputs": [],
   "source": [
    "def f(x):\n",
    "    return x"
   ]
  },
  {
   "cell_type": "markdown",
   "metadata": {},
   "source": [
    "**Next,** we create the widgets by calling the **interact** function, using an argument type for **x**. \n",
    "\n",
    "The choice of **x**  will give us sliders with integer or float values, check boxes, or text entry boxes. You can try each of the following:"
   ]
  },
  {
   "cell_type": "code",
   "execution_count": null,
   "metadata": {},
   "outputs": [],
   "source": [
    "interact(f,x=(0,10));"
   ]
  },
  {
   "cell_type": "code",
   "execution_count": null,
   "metadata": {},
   "outputs": [],
   "source": [
    "interact(f,x=(0.0,10.0));"
   ]
  },
  {
   "cell_type": "code",
   "execution_count": null,
   "metadata": {},
   "outputs": [],
   "source": [
    "interact(f,x=True);"
   ]
  },
  {
   "cell_type": "code",
   "execution_count": null,
   "metadata": {},
   "outputs": [],
   "source": [
    "interact(f,x='Hello World');"
   ]
  },
  {
   "cell_type": "markdown",
   "metadata": {},
   "source": [
    "## Example 1. Interactive plottnig\n",
    "\n",
    "Let's use these ideas to get some interaction in our plots.\n",
    "\n",
    "First we load in the modules we need for plotting. "
   ]
  },
  {
   "cell_type": "code",
   "execution_count": null,
   "metadata": {},
   "outputs": [],
   "source": [
    "%matplotlib inline\n",
    "from numpy import *\n",
    "from matplotlib.pyplot import *"
   ]
  },
  {
   "cell_type": "markdown",
   "metadata": {},
   "source": [
    "Next, we define a function that will be called by our widget. All it does is plot the function $$y = x^k$$ with a choice for the power $k$ set by the widget."
   ]
  },
  {
   "cell_type": "code",
   "execution_count": null,
   "metadata": {},
   "outputs": [],
   "source": [
    "def update(k=1):\n",
    "    plot(x,x**k)"
   ]
  },
  {
   "cell_type": "markdown",
   "metadata": {},
   "source": [
    "Now we define the range of x values, and call up the widget using the interact command. Notice the function \"update\" defined above is used in the interact command.\n",
    "\n",
    "Run the following, and you will have an interactive plot. "
   ]
  },
  {
   "cell_type": "code",
   "execution_count": null,
   "metadata": {},
   "outputs": [],
   "source": [
    "x=linspace(0,1)\n",
    "interact(update,k=(1,10));"
   ]
  },
  {
   "cell_type": "markdown",
   "metadata": {},
   "source": [
    "## Example 2. Widget with a built-in function\n",
    "\n",
    "We can get fancy with Python, using the lambda notation to implicitly define a function that works like \"update\" above, without having to write a separate def command. Try this:"
   ]
  },
  {
   "cell_type": "code",
   "execution_count": null,
   "metadata": {},
   "outputs": [],
   "source": [
    "x=linspace(0,1)\n",
    "interact(lambda k: plot(x,x**k),k=(1,10));"
   ]
  },
  {
   "cell_type": "markdown",
   "metadata": {},
   "source": [
    "## Example 3. Translates of the sin function\n",
    "\n",
    "Just for fun, we try translating a function interactively. We are plotting the trig function $$y = \\sin(x-k)$$ for various values of the translate k. \n",
    "\n",
    "For clarity, we mark the location of k on the plot and see how it tracks the zero crossing of the sine function. "
   ]
  },
  {
   "cell_type": "code",
   "execution_count": null,
   "metadata": {},
   "outputs": [],
   "source": [
    "x=linspace(0,4*pi)\n",
    "interact(lambda k: plot(x,sin(x-k),k,0,'o'),k=(0,10));"
   ]
  },
  {
   "cell_type": "markdown",
   "metadata": {},
   "source": [
    "## Example 4\n",
    "\n",
    "It is worth noting that sometimes there is a lag between when you move the slider, and when the plot updates. You can read more about how to deal with this online, on the Python notes about widgets. \n",
    "\n",
    "Here is an example based on Example 3 above, where you can see the lag. The lag comes because the widget is producing many floating point values as it moves. The plotting routine has a hard time keeping up.\n",
    "\n",
    "Notice also that we define the sinupdate function separately, in order to get rid of that ugly text under graph that appeared in Example 3."
   ]
  },
  {
   "cell_type": "code",
   "execution_count": null,
   "metadata": {},
   "outputs": [],
   "source": [
    "def sinupdate(k=0):\n",
    "    plot(x,sin(x-k),k,0,'o')\n",
    "    \n",
    "x=linspace(0,4*pi)\n",
    "interact(sinupdate,k=(0.0,10.0));"
   ]
  },
  {
   "cell_type": "markdown",
   "metadata": {},
   "source": [
    "[![Callysto.ca License](https://github.com/callysto/curriculum-notebooks/blob/master/callysto-notebook-banner-bottom.jpg?raw=true)](https://github.com/callysto/curriculum-notebooks/blob/master/LICENSE.md)"
   ]
  }
 ],
 "metadata": {
  "kernelspec": {
   "display_name": "Python 3",
   "language": "python",
   "name": "python3"
  },
  "language_info": {
   "codemirror_mode": {
    "name": "ipython",
    "version": 3
   },
   "file_extension": ".py",
   "mimetype": "text/x-python",
   "name": "python",
   "nbconvert_exporter": "python",
   "pygments_lexer": "ipython3",
   "version": "3.7.4"
  }
 },
 "nbformat": 4,
 "nbformat_minor": 2
}
