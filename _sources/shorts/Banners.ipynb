{
 "cells": [
  {
   "cell_type": "markdown",
   "metadata": {},
   "source": [
    "![Callysto.ca Banner](https://github.com/callysto/curriculum-notebooks/blob/master/callysto-notebook-banner-top.jpg?raw=true)\n",
    "\n",
    "<a href=\"https://hub.callysto.ca/jupyter/hub/user-redirect/git-pull?repo=https%3A%2F%2Fgithub.com%2Fcallysto%2Fshorts&branch=master&subPath=Banners.ipynb&depth=1\" target=\"_parent\"><img src=\"https://raw.githubusercontent.com/callysto/curriculum-notebooks/master/open-in-callysto-button.svg?sanitize=true\" width=\"123\" height=\"24\" alt=\"Open in Callysto\"/></a>"
   ]
  },
  {
   "cell_type": "markdown",
   "metadata": {},
   "source": [
    "# Including Callysto Banners\n",
    "\n",
    "It is a simple matter to include a picture file as a banner. We have some special files that we use for the Callstyo brand. \n",
    "\n",
    "The banner will \"live\" as an image that is loaded into a markdown cell. The syntax to insert an image is straightforward: start with an exclamation point, then include text and file names in square and curved brackets:\n",
    "\n",
    "```\n",
    "![Any text here](yourImage.jpg)\n",
    "```\n",
    "The name of your local image file goes in the curved brackets. The text is the square brackets is loaded only if the computer can't find the image file. \n",
    "\n",
    "This is useful for when you are loading in an image from the internet -- the link might fail, so you can have some text instead. \n",
    "\n",
    "The banner at the top of this notebook is displayed like this:\n",
    "\n",
    "```\n",
    "![Callysto.ca Banner](https://github.com/callysto/curriculum-notebooks/blob/master/callysto-notebook-banner-top.jpg?raw=true)\n",
    "```\n",
    "\n",
    "If you double-click on the banner, it will show you the markdown code. \n",
    "\n",
    "Try examining the banner below, to see where it comes from. It includes a link to our Callysto license, so you may need to double-click to the left of it. The markdown code is:\n",
    "\n",
    "```\n",
    "[![Callysto.ca License](https://github.com/callysto/curriculum-notebooks/blob/master/callysto-notebook-banner-bottom.jpg?raw=true)](https://github.com/callysto/curriculum-notebooks/blob/master/LICENSE.md)\n",
    "```"
   ]
  },
  {
   "cell_type": "markdown",
   "metadata": {},
   "source": [
    "[![Callysto.ca License](https://github.com/callysto/curriculum-notebooks/blob/master/callysto-notebook-banner-bottom.jpg?raw=true)](https://github.com/callysto/curriculum-notebooks/blob/master/LICENSE.md)"
   ]
  }
 ],
 "metadata": {
  "kernelspec": {
   "display_name": "Python 3",
   "language": "python",
   "name": "python3"
  },
  "language_info": {
   "codemirror_mode": {
    "name": "ipython",
    "version": 3
   },
   "file_extension": ".py",
   "mimetype": "text/x-python",
   "name": "python",
   "nbconvert_exporter": "python",
   "pygments_lexer": "ipython3",
   "version": "3.7.4"
  }
 },
 "nbformat": 4,
 "nbformat_minor": 2
}
