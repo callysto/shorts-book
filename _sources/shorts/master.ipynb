{
 "cells": [
  {
   "cell_type": "markdown",
   "metadata": {},
   "source": [
    "![Callysto.ca Banner](https://github.com/callysto/curriculum-notebooks/blob/master/callysto-notebook-banner-top.jpg?raw=true)\n",
    "\n",
    "<a href=\"https://hub.callysto.ca/jupyter/hub/user-redirect/git-pull?repo=https%3A%2F%2Fgithub.com%2Fcallysto%2Fshorts&branch=master&subPath=master.ipynb&depth=1\" target=\"_parent\"><img src=\"https://raw.githubusercontent.com/callysto/curriculum-notebooks/master/open-in-callysto-button.svg?sanitize=true\" width=\"123\" height=\"24\" alt=\"Open in Callysto\"/></a>"
   ]
  },
  {
   "cell_type": "markdown",
   "metadata": {},
   "source": [
    "# Master Index of Notebooks\n",
    "\n",
    "The Callysto project is focused on creating Jupyter notebooks for the K-12 curriculum in Canadian schools, and to teach students and teachers how to create their own notebooks.\n",
    "\n",
    "This notebook points to a collection of short demos, explaining how to include basic elements in your own Jupyter notebooks. FOr instance, how to include images, music, videos, graphs, even mathematical and geometric tools useful in science and technology classes. \n",
    "\n",
    "More complete notebooks with these features are available on teh Callysto website (https://callysto.ca). Here, we show the simplest versions to get you started."
   ]
  },
  {
   "cell_type": "markdown",
   "metadata": {},
   "source": [
    "## Note:\n",
    "\n",
    "This repo is specifically designed to run under \"mybinder\" as well as Jupyter Books. This limits somewhat the tools we can demonstrate."
   ]
  },
  {
   "cell_type": "markdown",
   "metadata": {},
   "source": [
    "## Demos that I want to do\n",
    "\n",
    "- [Including images](Images.ipynb)\n",
    "- [Including GIFs](GIFs.ipynb)\n",
    "- [Including YouTube videos](YouTube.ipynb)\n",
    "- [Drawing figures in HTML, SVG](HTML_Drawing.ipynb)\n",
    "- [Plotting in matplotlib](Matplotlib.ipynb)\n",
    "- [3D Plotting in matplotlib](Matplot3D.ipynb)\n",
    "- [Animation in matplotlib](MatplotAnimation.ipynb)\n",
    "- [Plotting in Plotly](Plotly.ipynb)\n",
    "- [3D Plotting in Plotly](Plotly3D.ipynb)\n",
    "- [3D graphics](3D_graphics.ipynb)\n",
    "- [Including WebGL animation](WebGL.ipynb)\n",
    "- [Animation in D3](D3.ipynb)\n",
    "- [Plotting in Pylab](Pylab.ipynb)\n",
    "- [Music and Sounds](Sounds.ipynb)\n",
    "- [Synthetic sounds](SynthSound.ipynb)\n",
    "- [Including Callysto banners](Banners.ipynb)\n",
    "- [Using widgets](Widgets.ipynb)\n",
    "- [Creating a progress bar](ProgressBar.ipynb)\n",
    "- [Including Geogebra apps](Geogebra.ipynb)\n",
    "- [Creating a slideshow](Slideshow.ipynb)\n",
    "- [A fancy slideshow](Slideshow2Callysto.ipynb)\n",
    "- [Hiding code](Hiding.ipynb)\n",
    "- [Saving your work on GitHub](Github.ipynb)\n",
    "- [Using namespaces](Namespace.ipynb)\n",
    "- [Importing Data](ImportingData.ipynb)\n"
   ]
  },
  {
   "cell_type": "markdown",
   "metadata": {},
   "source": [
    "[![Callysto.ca License](https://github.com/callysto/curriculum-notebooks/blob/master/callysto-notebook-banner-bottom.jpg?raw=true)](https://github.com/callysto/curriculum-notebooks/blob/master/LICENSE.md)"
   ]
  }
 ],
 "metadata": {
  "kernelspec": {
   "display_name": "Python 3",
   "language": "python",
   "name": "python3"
  },
  "language_info": {
   "codemirror_mode": {
    "name": "ipython",
    "version": 3
   },
   "file_extension": ".py",
   "mimetype": "text/x-python",
   "name": "python",
   "nbconvert_exporter": "python",
   "pygments_lexer": "ipython3",
   "version": "3.7.4"
  }
 },
 "nbformat": 4,
 "nbformat_minor": 2
}
