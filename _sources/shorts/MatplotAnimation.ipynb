{
 "cells": [
  {
   "cell_type": "markdown",
   "metadata": {},
   "source": [
    "![Callysto.ca Banner](https://github.com/callysto/curriculum-notebooks/blob/master/callysto-notebook-banner-top.jpg?raw=true)\n",
    "\n",
    "<a href=\"https://hub.callysto.ca/jupyter/hub/user-redirect/git-pull?repo=https%3A%2F%2Fgithub.com%2Fcallysto%2Fshorts&branch=master&subPath=MatplotAnimation.ipynb&depth=1\" target=\"_parent\"><img src=\"https://raw.githubusercontent.com/callysto/curriculum-notebooks/master/open-in-callysto-button.svg?sanitize=true\" width=\"123\" height=\"24\" alt=\"Open in Callysto\"/></a>"
   ]
  },
  {
   "cell_type": "markdown",
   "metadata": {
    "slideshow": {
     "slide_type": "fragment"
    }
   },
   "source": [
    "# Animation in Matplotlib\n",
    "\n",
    "An animated plot is just a series of plots that are linked together to work as a movie.\n",
    "\n",
    "Matplotlib come with a rich collection of tools to allow us to make movies. In this notebook, we will give a simple example, to get you started. Read online to get many more examples and details. \n",
    "\n",
    "First we load in a bunch of modules that do the work in creating the animation. "
   ]
  },
  {
   "cell_type": "code",
   "execution_count": 1,
   "metadata": {
    "execution": {
     "iopub.execute_input": "2020-07-08T04:44:22.493482Z",
     "iopub.status.busy": "2020-07-08T04:44:22.490912Z",
     "iopub.status.idle": "2020-07-08T04:44:22.707128Z",
     "shell.execute_reply": "2020-07-08T04:44:22.706716Z"
    }
   },
   "outputs": [],
   "source": [
    "%matplotlib inline\n",
    "from numpy import *\n",
    "from matplotlib.pyplot import *\n",
    "import matplotlib.animation as animation\n",
    "from IPython.display import HTML"
   ]
  },
  {
   "cell_type": "markdown",
   "metadata": {},
   "source": [
    "Next, we create a figure object using the subplot command, and define two functions \"init\" and \"animate\". Init() sets up the y-data in the plot for us, for the initial frame in the animation. Animate() defines the data for the series of plots we want to display.\n",
    "\n",
    "In this case, we plot translates of the sine function. Animate(i) uses the variable i to count frames, and that i value determines how much we translate the sine function by. "
   ]
  },
  {
   "cell_type": "markdown",
   "metadata": {},
   "source": [
    "## Example 1\n",
    "In this example, i will range from 0 to 99, giving a full cycle of the sine function. "
   ]
  },
  {
   "cell_type": "code",
   "execution_count": 2,
   "metadata": {
    "execution": {
     "iopub.execute_input": "2020-07-08T04:44:22.710824Z",
     "iopub.status.busy": "2020-07-08T04:44:22.710462Z",
     "iopub.status.idle": "2020-07-08T04:44:22.830189Z",
     "shell.execute_reply": "2020-07-08T04:44:22.829837Z"
    }
   },
   "outputs": [
    {
     "data": {
      "image/png": "[encoded data removed]",
      "text/plain": [
       "<Figure size 432x288 with 1 Axes>"
      ]
     },
     "metadata": {
      "filenames": {
       "image/png": "/home/mikel/Documents/CallystoShortsJBook/_build/jupyter_execute/shorts/MatplotAnimation_4_0.png"
      },
      "needs_background": "light"
     },
     "output_type": "display_data"
    }
   ],
   "source": [
    "fig, ax = subplots()\n",
    "\n",
    "x = linspace(0, 2*pi, 100)\n",
    "line, = ax.plot(x, sin(x));\n",
    "\n",
    "\n",
    "def init():  # only required for blitting to give a clean slate.\n",
    "    line.set_ydata([np.nan] * len(x))\n",
    "    return line,\n",
    "\n",
    "\n",
    "def animate(i):\n",
    "    line.set_ydata(sin(x + 2*pi*i / 100))  # update the data.\n",
    "    return line,\n"
   ]
  },
  {
   "cell_type": "markdown",
   "metadata": {},
   "source": [
    "Next, we call the animation function as follows, making use of the figure, init and animate functions defined above.\n",
    "\n",
    "This creates a new data object call \"ani\" which holds the movie. "
   ]
  },
  {
   "cell_type": "code",
   "execution_count": 3,
   "metadata": {
    "execution": {
     "iopub.execute_input": "2020-07-08T04:44:22.833108Z",
     "iopub.status.busy": "2020-07-08T04:44:22.832789Z",
     "iopub.status.idle": "2020-07-08T04:44:22.849276Z",
     "shell.execute_reply": "2020-07-08T04:44:22.849539Z"
    }
   },
   "outputs": [],
   "source": [
    "ani = animation.FuncAnimation(\n",
    "    fig, animate, init_func=init, interval=20, blit=True, save_count=100) "
   ]
  },
  {
   "cell_type": "markdown",
   "metadata": {},
   "source": [
    "Finally, we display the movie using the HTML() command from the module IPython.display."
   ]
  },
  {
   "cell_type": "code",
   "execution_count": 4,
   "metadata": {
    "execution": {
     "iopub.execute_input": "2020-07-08T04:44:22.851769Z",
     "iopub.status.busy": "2020-07-08T04:44:22.851459Z",
     "iopub.status.idle": "2020-07-08T04:44:25.507555Z",
     "shell.execute_reply": "2020-07-08T04:44:25.507802Z"
    }
   },
   "outputs": [
    {
     "data": {
      "text/html": [
       "<video width=\"432\" height=\"288\" controls autoplay loop>\n",
       "  <source type=\"video/mp4\" src=\"data:video/mp4;base64,AAAAHGZ0eXBNNFYgAAACAGlzb21pc28yYXZjMQAAAAhmcmVlAABVm21kYXQAAAKuBgX//6rcRem9\n",
       "5tlIt5Ys2CDZI+7veDI2NCAtIGNvcmUgMTUyIHIyODU0IGU5YTU5MDMgLSBILjI2NC9NUEVHLTQg\n",
       "QVZDIGNvZGVjIC0gQ29weWxlZnQgMjAwMy0yMDE3IC0gaHR0cDovL3d3dy52aWRlb2xhbi5vcmcv\n",
       "eDI2NC5odG1sIC0gb3B0aW9uczogY2FiYWM9MSByZWY9MyBkZWJsb2NrPTE6MDowIGFuYWx5c2U9\n",
       "MHgzOjB4MTEzIG1lPWhleCBzdWJtZT03IHBzeT0xIHBzeV9yZD0xLjAwOjAuMDAgbWl4ZWRfcmVm\n",
       "PTEgbWVfcmFuZ2U9MTYgY2hyb21hX21lPTEgdHJlbGxpcz0xIDh4OGRjdD0xIGNxbT0wIGRlYWR6\n",
       "b25lPTIxLDExIGZhc3RfcHNraXA9MSBjaHJvbWFfcXBfb2Zmc2V0PS0yIHRocmVhZHM9OSBsb29r\n",
       "YWhlYWRfdGhyZWFkcz0xIHNsaWNlZF90aHJlYWRzPTAgbnI9MCBkZWNpbWF0ZT0xIGludGVybGFj\n",
       "ZWQ9MCBibHVyYXlfY29tcGF0PTAgY29uc3RyYWluZWRfaW50cmE9MCBiZnJhbWVzPTMgYl9weXJh\n",
       "bWlkPTIgYl9hZGFwdD0xIGJfYmlhcz0wIGRpcmVjdD0xIHdlaWdodGI9MSBvcGVuX2dvcD0wIHdl\n",
       "aWdodHA9MiBrZXlpbnQ9MjUwIGtleWludF9taW49MjUgc2NlbmVjdXQ9NDAgaW50cmFfcmVmcmVz\n",
       "aD0wIHJjX2xvb2thaGVhZD00MCByYz1jcmYgbWJ0cmVlPTEgY3JmPTIzLjAgcWNvbXA9MC42MCBx\n",
       "cG1pbj0wIHFwbWF4PTY5IHFwc3RlcD00IGlwX3JhdGlvPTEuNDAgYXE9MToxLjAwAIAAABA0ZYiE\n",
       "ACv//vZzfAprRzOVLgV292aj5dCS5fsQYPrQAAADAAGq07IMpSasR30AADyPnBQffwARHdk8RORj\n",
       "oBrZv44J0j037V8qB9XWijtRIGDGfpqdk8LkAVIc0E3deMz5Kr2t3DLYoEHEH8anVKTYKxJwy/rg\n",
       "R5tBDdh1zAvR4LvTE6T3y6Hi2zfaefdU4t6jaguFvkXK+a28a6388Lwd0SqulSrTlLKoXTecRSAO\n",
       "1wm0C/LBkjidSA6zRjsWqnLG4Zo3BGfGlNpNcx/QRjGo9rjD3ibbU5323hxTb1dZwEcriHFOlwY7\n",
       "qYynWPztCf5t9OMXV8hX/IX80Nbch+FFH8wfdUsZGeIeF0oSlLZm50lF7GhOPvIB8XV9ifaDKbl7\n",
       "+6HIWrIeMR/MMIr07PrlOAox0y+n6WAf5jadKh2mG8Rp2LVJ+PmylgI8iD3J2w5+X39ubOzMDKWs\n",
       "c7urKwNhPVjbXfMRqurnVUyziy10ZkMjjgWshyinOuWarGPxX7Q4yUt1JnhusU9C36Q2/IcA1Es2\n",
       "pgWzRHT2CXHuQp695K9pknG9CcUin6HBLZw/rrf/UPCno6oVb8zmmiszv6+rWaWw+hxfSCGgJuBv\n",
       "iFX97aQx0LqhdaZs4ojb6gYQ77WM0mzK+t1hghDWz2em2W77zZ5qjGEiLg2fyNZNhwoJ/KStIuOB\n",
       "Ie4vcOuySMw6jASWrQIomh+Xq1F4XjtpRsOyyO/ajncqn3unceJTO3Xkkkr14QqfW6CLdMsnz/+c\n",
       "j3+E2uVZp5S77SYboO6mIQH6XHUWyJu/yEUEufghlb4fk70RLUsUNVcPOR8LonqRSeY17831KOMC\n",
       "n4Zn8tPjxNEtlhy54oC58eE9x0m00koonzSfSYYJl3SzbTiaWg2OeNiYLXP+WiTne6LWSoQqUifx\n",
       "yGnIGMA1l3SwpMb06zQx5tt6gmPjYM7fs9dwPNPraexRUTcxYZFVwq7wM9l+XtwYv6mXZWC3DUxK\n",
       "UjGLslxdXrebQqaQXO6NJAqmupRcYkBVQ15nE1xThj3a//YCJQEbwVQIxd373gdU7rMi+57nDyTZ\n",
       "AU/qoACtZC+EnQ9Hxr0mgAEpzMWyQP583Rgnpd/EEvBZd3xfHmmJqQ6qh76FGDT6UL3BmSv/v/9G\n",
       "DthpX4JZ9j13hA+IkIe4PhQ3mbkrNIpRENC4OVFdAr6LXzio1ujq55IbffBEIMq5gqp67uZ5o4ee\n",
       "jWaSgZzwRjess9L3Zlx3C19FYI4BE+lZTa2bY+LQiQA99uOoUpK38KsUzJeQkVcr/eP547FfhV+e\n",
       "w2y4AHACPMqs/M+8JFMGVwGwtNqoJ9Q5h4bGbQ4Bs0+ViDSUaz9G4P8BRLjaxBedwQ7Ukye+qmhS\n",
       "gqNW5LYTbt9d1U9yVQNWk5rNWcFDJTC9xihTrcP9zjGG+C+szGJLQHhNn/R7nfv0IrFNZAhWn7Sf\n",
       "hqIr196CGEPwfR64mdjFgbQKLkyG47dt/QV3an/QLpbIBXPO48fBhezM64Xn5FNOO9e+kiRZ0Ngo\n",
       "4LrUZGkwbLsMVSBQhhzYQqMgNSsb7SdkSSRqeI8wldbrqgOj6ozVbZseIKslteU+ZMHqpJ8IhoVG\n",
       "PnNil/8eTG/v5npdXhHuva89zAhU+tYBSTIQLeLoYXXH4UWfFH4n14OgbSc1yyiS2Jl7+OT/wxfq\n",
       "BjaR7OvL1+NFBadZprlePmucBKVT/flcoOLBOYMUyBW1glmJKSW7x1Gvlj3ydPyRARWgq6Sb7Evj\n",
       "7ESyd2hAtrLIHkj6S9ZKc7m+klctHgf1hFYMv/CJNhgAY8tbTiUjdD/nOlGngMpNfXAbxQaRyp9d\n",
       "TjtxEToxs9JwtgID2AvkXp0AjKvbraLFHQoqDKQ3iMYvAyo9o9UpgAeVxphydDrYjOD1QlQl2Cc5\n",
       "7Fs4LsqGfa5U84tgWJC+AtosJgZZBgfaFNpa/hYTOuYR5GiBnIzPXwSYJSGyWwL3pxSW3YPwnRam\n",
       "nKxjrDLtRe3rvMKPa9ukzJ0yj6wmDYmX8e823hpWDhTIkeTeGsF3emy3WYBPTKpRdpqfuWe3hrRy\n",
       "UF5wUMEFjZscP8MACKWyCi5mFCKRZdMyDnEI1DOKVg4cszC63dH6N4r/qwPcf2qxCb2GVtGj98zA\n",
       "Ly6x4aAH4LZwjzuer52tvA4w+ucCSpzCxK0H7fFrnEJZhplmTLQeFrZ31J7MWAsGUsyvP2dnEL8V\n",
       "2lblHDitk6TkHz+8pV5dcBkhwmtLUSHNBeoFg2kX86QPU/+Q7aGavTqhXe5cAgG7M5a7hrlb7A9e\n",
       "y8ZOdCN0okypIlsi+ITK1gZTzlXYfHrANC6fGC25eucS8QOfb1zHtyrgOwcxs3mODJZUsQ6fAUsI\n",
       "Xb+gJn8/eE8v4r2hMCRDd6S5DaN/noDw/IEXdayLYLd3Nkz2wf6NuIGqbpdlHG2rkjFYMCGewynJ\n",
       "RuAq2Zz46bBb8YhuL0ARQ3lOLrD6p/cyxliCDfJN9BblBPNPaGdvnvlZMtX6h31om3HCwDUpuIoM\n",
       "rqFAgfn7T5nnhI+Yj1IwLhcU6vPRkC8A3MQgWHilYbnH+NExtNop+XB2zJHlJTtiQpM/+9wfjFVV\n",
       "qX8E75wxprcl5UbrwbecRxgbjykdfcVQkdWpLgdB+151J/E1kLoN+EOZw4v502Dds+jErvpAmlgf\n",
       "/wzF6UE9PBxuXQoR1ZS0Ytkl2K4iuzGcFvBdVlFAgvod5A9QhAZMhApRMPvZQunpGHcxX7T/99/V\n",
       "OKbL5zSiLBTnpbFBT/eIBZlQUi8QgGegMHQKyVjDq/WoGUdnGsdKMSYO2ThvHrc5PRnokDX5dGiA\n",
       "dcCMKuUInQ6gFJ5Ocdp+Fol2YFspPjW0MtzHV3sbivqQjsGbtqHGqWjA2sTdD0PRwl2N7cTBbRI1\n",
       "yeTCVa3rkJtc/8NNYpZNrr+3Df1+ZMhM/Od7c82WQSVK0Ju1ehhpm9Mu7SgEJCRk/hNltGJ3Epp6\n",
       "dAfZ2Yd3+8S0nNutSH2aguGoX1Ct+2GuVt1CU4bCVNmRjOHY1z6EsKaSAKX7Pe0nUtChsoq/JQE+\n",
       "H3rYWeJ1IkARFTmAQfg0UHmPOUIwRpZDy/yhdGazACjNNKwtAm51gv7nklpc83mI6TKWbfWj+OxT\n",
       "+1RB+SFMnCbq5JZnPO8+ze2nwpmUqebyZYuins7B4aR7W4H4YDInccrQz0RB+A8hZL5E+WCmrnd8\n",
       "SFpB/k/Zz9Eeufs72RO14EX1648s6rDGifysn0pCXr+ROguz272G2so62gx0TI3f26AuJJQSypYC\n",
       "9pzofdYHcMDBs7dEo8XQvhMJO4kkH1N15Wrh2MDuddzMQYSeQAWIn6Ntc69AlxNLHrExrURKSxLQ\n",
       "mc5iwnLJY4dxUlOGKD2oNpYOM7O65vD0H83tVkcbn70NI+LZ+3iKaxVbb5sjdhw7iu/r01LrlB+4\n",
       "+mToG6xuPFzA5y550LkvgMMiI/qD3I7+fj66QCVV88ZsLrpIgcS2WSard0sVQl64uy2Lu1mFLqOL\n",
       "KorFmUpn5FJ/GX+/9QcjJLEnjJQ9U87RovvDIy7Yy+tP4bTC5utD5+suEnSIGSJXekpUzR9YzdU5\n",
       "A1T+EpIIGtO0znuLideIA25wlzif6R/DKw4tt+iJ8C/3GR753RIy6LvZsAjUH6xb9u0k9eqpHjfd\n",
       "NIDj/sX1fAqUAj0os8Gnbh4E0A2GfCtkc/3LNIdMkH/XGhyodA84VFsNa4t0i05nbbE8CV84OM4i\n",
       "eP8nT4h2PZp2J2yj5jprPqwnibObNLZpg6AKi32A8QVgNQdTXvn0/1yEhBfzOuVkiyAtbcW/tPXc\n",
       "SIUAO/f4Amm81OquuZzOYMzqGBAAP77lh7blleNPCVY9OgDe9ghh2t5wuy8eQFBJlgzIRcZO/vfY\n",
       "e3VQ6ojfMhZWR0Aqqe2sncfkdsrVKTG+4we/yn4jKon52W8yy/Ypq6c2jigYRT+flL5Uap95OI9c\n",
       "U8CjD7pmpjpCB6BKKUBl4fW/hmXBF6UMSo0HKXbb5WcqbzCUn+bCzhGizNUSK5HjOujo91tADrqp\n",
       "ZakfHcM30wP6M6JCMQT2mATYLjjb8gcP6uVEOT5WoQ9T1boQlfGuuqexqOhePpDNp336o8lURjSY\n",
       "Sw9xbzB/yXSllp/vi1NmIZHtbHdAq09RyjNUqab+xCUKW8BKZtUYreoGuYiaq6YyVubNZDobVqML\n",
       "voSniS6xnacKyAkhV+IYrVuTeNRcKhfBmMV4IS62voB27XO81pt6Lb0eMtqK1QlCh6+gDD9skGXs\n",
       "c0KouXQ0fJ1p3B5iqjByYs4xrO1MU+AsA6X0WwJt/v7EF1NPMB80NZ2D4JAL4BbFsQQjxVAPRL1f\n",
       "wCxSrcNzn/gYASvIq/c06aE3mHcdyyaMzzzecM+bLdQULQTWnVu6RWCy5hBsfmoXpe6v03BqY8d8\n",
       "A5xq4zTXw0DukDE/NXGZj3w9/ZYPAnAHPPG8sFd8KvvNldY+eMHD9X11nXYzgheTTgFBoqxCbIhh\n",
       "61XZAggud0S3iwThsNQfRimaMl3L0QNv60SgpMxg54U5OvpQjRG1xIM/BW/PIZYBf5ECzQ6GJNNk\n",
       "x3r1DW5TjoA6TZQALmboAFz5hNER5ZosQVPD4/o8d8fi1pqAuQPB5GDrNpCN13tZ5R1bRtbUZm39\n",
       "6pCJoa2qHv7A0VF8aH9vQ8Azj0DlY/n40v7C/xiHFI/mx2zB8HXNoUNjqzYaqvf2FA1sQ/XVel64\n",
       "5ovoIm3OTD50qq8WR8eWd/g6Tfq879Un+iOBoedVj7ctBw5j/3HoeWPRa6nxRoSYuI2+7QO9QxVH\n",
       "G9a4rcNAYhBkVgE3mCotC4y/oqPzIoCBnDGFws83v/9OUk5HuuBcIHIxXSWsfmqWKiHn5OaqdDiM\n",
       "vrCy2OLfKbRysgOSvNP+w3AaIHh1fEXasI8WkNRiA5WSmMyolyrAYL+5LXHDJ8P4TbMOmTrk+Ui3\n",
       "dmvTCeCCZM8BtiPbMn84cjca/T0n3tsjafV8zf60oER3KxMsQRqE4mskoTJZ6xiWtrFxazoQRmCJ\n",
       "qb+TX2rXPGCvuUNZfNqkLBRj7FDDAu/3KsBvpAqgxsTurF8XrpA37Q9cdM3QW0iLfsRFvMBVE4nI\n",
       "t+nVOqN6aBXjDXzHgNImgKLi1uv2yCqBNd5pp2nsG0spHvLiYdm/UovFM6RMXUjlmqWT9N5ejMo4\n",
       "hE0iciK6q+Li1NkgG6YdNO5JXPehk68RQscSaSuXJXjH7VYzQERb3/bqkkEPSaBopQbfOEzsI1jR\n",
       "JOFBego8YXj5FxIUEy2tLuwZ6sVEZFRDnnt2tdXRpErOdTXwTijvRV+eHZghSGwVz3p/FR5xm759\n",
       "BmOH7bEbB+B9XgYdBqacTsL5UoNIdcHB07mBzzDUIwdjQu/roHfjXVhqQXUi8ewcG1DxfvtqMV/T\n",
       "46azzqODFpqOhBFiPrZ5R5DOh4C54PgiAthxKltcTmXpb4ogLaNOPxZ6p/RYTJ30QiWlWbKmiA5y\n",
       "wvsdStIaXMFJWuWYR4K8JTQ/4goc0tG3jDWOkGe0TB/kgnBgMdagMOEAAAGoQZohbEL//oywCKDq\n",
       "cA0ReZXr1ipWU9FxeksY6DFeSsPzf7Lp/hPPWsAdJbA6dhiSNW9wbA4M1YSafbPOgAGbfnvnXsAN\n",
       "EuAcuEAraAvH8fdQDkRqNPOYpwpjca6C7T2o043VdG0cW1nBmIYiR/0cpptiMHnMIKFWuBFcZOoA\n",
       "AAMAABUWjoOgPuEsa3gMfLzluNQxhm2NEKCp6H+8x5fZ7L9x0yejIMifH80FLJySsnxOxX/KFXfD\n",
       "up5chPLpuZewpSB95hdMR1WaZE6wdcp8BBlLTx1XNvGTy7MmxA51DZtaUBPVj+ZYXxBfdcdzyu+I\n",
       "3IpqdUilzAYdvVQkc7XzCg/X62gPTvuQGkyon3RlwvGCeCgqDEYQ0AJe+yiXAaNFTZ6ZRyyY2DfY\n",
       "iHHHOAIZqF7fJ0zlCEsG1GkMB61+akXF2ExRMKhwCH5IFLD/8HNBdeR6hiwkTyZNMKpL1m0WTqt8\n",
       "nv8oz56ZnFOYk95iZCMlpzUuDVwwWWB4frRR0zg4Utl4KtVyPSC5oMbh39q4wIK66sXAMCvoGYBr\n",
       "wZ4cJR9snJ8tphQukAAAAPhBmkQ8IZMphCv//jhBnakajU3b+lIOAQFCQi9wVUC/u1w9An7AAFWj\n",
       "WFZ7Pdfgn7MNxNOVOXLYx8pt9yP7yEfzbwl5j/iGiZXHTm8hn91EA8Li0QwFE3UPaKSqqy3dM3+9\n",
       "AebEZnsrh/0zddZ1XHd8h62keMK0yJQ8nWwHkzcXlkSccyW8/lPXVozgsdHsVhzQwJg98JaVjG9C\n",
       "2HgcuHaBLCv0KHw8Wv9wKp9iorncSU61u6EoF6sYk3EynHF/ACZS854u3A/tVHHztFMUz3bOXZRm\n",
       "HspRhdd7sgOUJdr2spm0lZJvR3bT4KhydpWO/u3ChRK5HY8SfwAAAIpBnmJqU8I/BVVB/Lg2P9Ar\n",
       "4wGVaae1NsL9TwkmBTacFOitkpNvftlr2n/2ZGupc7wedN6CgzOfYzeht+2J68A/ULeXjO8noyIb\n",
       "UMNpdcaMlbUubAHy74lNoE2rpmRtdBswjtZAB28oXjxWb3o1cLPH/Aw8uc0dJsK1Bbnve3r6t3X3\n",
       "x2LHqhQ4O6AAAABxAZ6Dakf/AzUjt9LsBWdqG32DnR3wRai6ODtaudlBWeDpTC5Rj4LzOUzvyQsb\n",
       "PXM37WLugbzA6m4TKuQ3BQm7vHMDLfaYlNwlvIsHDlsjq4oaMpgP3X2wrFSM+7fnHImZkNIRMJVO\n",
       "LSHYO4J5NoBEQzcAAADTQZqFSahBaJlMCF///oywbGt257iIfQYmKoZiW/iRv+km7iyf/I/ZKESs\n",
       "EqImZv7AmeS1pPrI5bWFBD/Cr+lwIjWp8HR0000VvRlt0TE0xOPY2LpVZ/n5YR4mPn4Tt9G+kFpH\n",
       "rCEOQxCyVQGTpOzXA8A0d5xMSFFU0Gj2sBJg+t+QBLirVi2pXHa+GEUVFM7RGTdKvFe7eMEHg6PL\n",
       "dm/TO8s3ZK2xlQtPFzKk8jW4Za28JuV7ZHQAkHhWYSgd/8jtRWr/uHDV7HzmBXc6jmnpGbh6NQAA\n",
       "AQJBmqdJ4QpSZTBREsL//oywB4e93AZlzMccBrB4uGQ5EAoEioUurdcHnmZlWfv62lx2M55WwEay\n",
       "jswyzl8eAK7AmTksHOUIEFYE5lOiuuYU0+W679q945h+0zHWcEixRLdRh/mxMIU5bRlzfDkcPcTq\n",
       "JZlkg5i57O8zWN6yufXAOwrkfdioyavQ5/k1wf9iORRX1c15/GwWjKODbny7ujrRUCt0DlOGbp/W\n",
       "5ZdZTM98n1l4iYpda+MOWVCaWHMYbrWLLSJm2jDI02vD4N4yP8icgxXsM5QfdHCa5wr/zrNQp3fI\n",
       "CW1Lb0RP6mzrPptm1MrZegS4H+gG+lPgQ+cAtd3FRMEAAABlAZ7Gakf/A1vtlLhvWdoVey8d4UnQ\n",
       "8dZDqz6GndbKihqEE+He86CzzB3WqoMipwUAzv4wfAXHJA2Mg80ncLkTvSyZPaC9Bc/dBPDurmoZ\n",
       "ZIRmQlfTGhgVUS6Sv2tRqAwyub+gPyEAAAEeQZrJSeEOiZTBRML//oywBs9HBxMDwuFsY480YAWc\n",
       "5DpwFHv8tC/ascXPFjVTs0ojASFpwtnXsxPo92d6nL+ma8V9+/mcNrK2l8GvgMETtVjCGQYjMViz\n",
       "r/dc9mkQW/IUG8jbdEvYMbC5ctGigxNMTg1oZ1E3De4cE8E/nvAY7NwMlcMG17LT5kn9ZRPsrXOk\n",
       "dggoZpJuOy2Ed+SugwgecgWLyKenpzCk63EoT9ZpU4nkkGlKwUi2SnNwQNWMhfXqzHBzy/lk6E5h\n",
       "VUvl/i4xK3y2dpE6rYJYFOLjGXs2FRP4vbLaFTMrhRc+9zIzbflOOaX4iJPTsxKSkKPJhdxGTA3C\n",
       "X1NyslFtFEtH3Ii4vsEfxb8LpcDA4Yw+AVU5uAAAAGoBnuhqR/8DNO709p2/9jTakmgezX0/x3aJ\n",
       "RmxlntAszVwE9IFKW2nAk+nwM7aO1GdilNpUoA2CeAalrkEeSSCxeKJzb9cGum+MjwPQ8pLValoO\n",
       "hQhfXEIdnZ0GZDHR6bimScg6hKzGDhKwAAAA/EGa60nhDyZTBTwv//6MsAcexaGTYfeeOjAb7iPy\n",
       "SXFciK/0YAQQTPIk8X7kgKoUu0ySSm2STsHdKNvfKoRbeqUW33mMqUuCVGcLieQW6LfSVWjYo/9B\n",
       "1mF3Ro914GpyHaNbO/1II/Gd32Ne8aNdLznVJsvYHwEdhcTCU7HzQljCAaFIA/4zxFNu0mfhZ60c\n",
       "KISK3MByrjbEDkXQKySfj+2z4JhCGT3ZPto24N5bk+T+0Og9u+QbAhtyDtSc+EJo+8JVYPgQZTL9\n",
       "Wbd0Effdc1o5gKOxrg2IZXecv5PxpeAV6mC2XujN/9JpYWS3svdxinqpNi/03qNo239FNQAAAFsB\n",
       "nwpqR/8DM3GDjmlGWBnwbjNaPWHCyQAcdnrdYzwmiFtx9gZBJ83uPMPoY2w+koMmhbkVxhgPEsFX\n",
       "ALVgBSOejEecofuVA2fqGshIwmgIxfpfjQSxcugSHlGIAAABG0GbD0nhDyZTAhf//oywB25xuCqe\n",
       "psUoFTSuVFxUz7kKigAUk9cJJxLwBAPEScn5pS1GL3NgB+DPmgO/btV8HPnEvNya52zdFewqSqGb\n",
       "NLnnBAB1/ProaK8kQ+/5dVjTYelLxlX4Pc8e+WcLRCvA4XqlGVfyTFFkR9NtEoToaMX3kAjpITPv\n",
       "MELl9A7SitI+T3PvLpUrmu55UlD1XaIKYZV2GVfVYttp0yobFI0B3mLPTE5jRN3ZBSD2d1GU/wY0\n",
       "9VMDKQleeTWk2sQ+Wa2eX5T0EyBCKCbbUJQRO8rFu2B1SICG2yz6ZHraW05kG3vnd5a6yDLo3vOd\n",
       "PZhwIFL7Lwne55P8IldsxsmX9S0IzpdnIuZyeHqlWCOEiIAAAAB+QZ8tRRE8I/8CC6gDJol/OUOk\n",
       "kDnzU2rJeEEGeFHQtmG2yD0WiozkdbyZFJpK87bGMYvjvPm6H7zh50r+yOcnEjGmQwRUmjyaK2Ga\n",
       "WZtqzIVolmzFjxeotkRhv0Ee6CMaVK+nYpCohHkBS8/GwtNiW6VfvucnceEQlnudaGVNAAAAXQGf\n",
       "THRH/wNHOOxpFkDkpaMJXUge1OAqJUrcaZKuJDfGJPll7feVUxjyYB20gkek+wn49+b4w1czpsxy\n",
       "tpaJuUzTeI3gtq+Rym2OPv5INbJWNjNxOU87VACOMOF03QAAAGEBn05qR/8DSO/X882sWQUDFGqq\n",
       "CA8eCo2pH5sKFkQPhCawcDT+IR0S667VDrLVjqS/8Eg/Gr2yxHhcuxTXoorY/D5DUEa2EkJfjl8L\n",
       "LniHxblHcEVWiPhBcJKoavbzcAh5AAAA3kGbUUmoQWiZTBTwv/6MsAdyepkYr2R+fzwPQ8jwP6gB\n",
       "B/Cj43Jz8doBVakax7gNcLG2qB6dq5QgYQy1c4YBKdsXTFBX02eP+zbuzkEGwF0qsVEvDKmSfjQT\n",
       "5D8VqzgdJLobb9suc6owd+7zPsy1yP+7vRP/L6W4BILHNyWQQZA6fzjZTF+5BQuQuwe/l5QnouEO\n",
       "a48ZpQ/U/Y81qzoZNvb86pIfAksIzDGivaXNeQiPaS0rYsgUxTffd5o4Qm42BuSw+Q3IBIWB4VF4\n",
       "94PR7erqtcKTyN5nxQ481TCJgAAAAGABn3BqR/8DXSUNe5j/9xtYeaytbLj98FSc/L84lmrQuttA\n",
       "D9FLZ2hByyFv/uDEv6/H4FHitw61gfCZSETrp3m4GcXe+fM5A25Dm5tXwHcnHDPs1aXC191PDO+b\n",
       "gIo911wAAADpQZtzSeEKUmUwUsL//oywB25gbPux2OnTr8mSTHwbvXogx9bJAHMPTBFK5g/SaMaI\n",
       "TFlCa4yJ2lcm8OJwUsM7E/DdXWutQwx7D5vhfgS07/zUY/JUvrIcxNeso5dVeffjiUfyaun+9Q9c\n",
       "4NOtMwEN8KhM3zvPYGpbRNn5P0cFGFpZ2oi6RDCn2FzQIHPIM7UlcP3aftIUmQAaspSDOoFEdP0z\n",
       "R1z7BnCNfFhnHpTr+Lx8lzlNliy0ZifM2J0DBdD1VLTyB4YpnO6oZRkWyNwth0qVFemOWg6/6Ukm\n",
       "neDK+IAHuuluabyMJqEAAABZAZ+Sakf/A1zu9PPUt92KHUwzlnXKz819hWxE5XnRXwFoMLsXXGDw\n",
       "QpNaTHlmJiZfuGW6nCb6S0nMKSk8UkxkvHuH5BVEi2Z6wTfsVWKYX6+/rnlEJj4IOKAAAADhQZuV\n",
       "SeEOiZTBRML//oywB25gaJeXF3f6pO3gDmHrhPay8vKmZ3YNImmsKJVWdbeVCuYaHLI8dfn6DDks\n",
       "jCDetXlwYix3zQ3PxThe64grysu2xJBLfAtf1N7kX8iopVqwLmDB76FHVOilA4zhoXdgG40JiNC1\n",
       "cpkcQgqulJQxrNblEtbQKd4yyor1qLnfpTdM5xibPign+9Wdgbax+dnDJNvxN77wV0+Dd1yqsrx/\n",
       "yu4soXyC87tYEqWt2qcGdkGVkuh0C10EfvqGn7TbT94d3bOki2aN/J6EDay4G32PCuRgAAAAaAGf\n",
       "tGpH/wNc79fzzaxyFPuBlSrvmXPAXt165cADerQ5he9YorjMozmZ72IJ6eGxaUOxPMiteWe4qeSP\n",
       "lSqCcnhpw/zWpJ6D/L/0mFU5dWPM/OJsHRySXm8nrv3VKALNaK6dZNBgpEtBAAAA+EGbt0nhDyZT\n",
       "BTwv//6MsAduYZXvoAQmXDWZaJ9Hx2HeKQYAi7Kf6K4eJMiCLu2fZmmRWDRhpvwYmootFkuChpsC\n",
       "4uT0SjXnqGYAOSBMldUqaMMddhWpmlTOeta2VT80DyI7khPneycC25yjCPWeXP/OY1BE2FE0K2j+\n",
       "ZLKtstg+Rrmbi5TzMqwZ7XLlO4Bx5D+JEghKf5gz2kvtiFV/bAsn1djHeMq3O1GdXJS98KgdlBlm\n",
       "rXoN4jzj4pfjmZFE5v2B6xfkOoLWSzsHfwpcDExsUWrN99/DzhaUvhOtjGlYhVHKcAmTG/tb4i8U\n",
       "MoB2hZuwrb30GDvgAAAAYQGf1mpH/wNSAspYy6oQQYDJ8D7wAD+dinIAAEhwAyFAo5xKrlvTZ67M\n",
       "DvrID9jME+5Vp0uC8VLr/gDO6ypS0MHgHsrCOytjF5P5oM/p7ttRhw7bC74VvPnNdDZzZjbLGPEA\n",
       "AAD6QZvZSeEPJlMFPC///oywB2rjSDPF3EURfRs2rd+mQoAb2NzPk+poMrQeaI72Vq2l1GAcCVZ3\n",
       "BtHzw1Z7PchrhK/yhWp8fY0sTVf28PSO1/rqmnq6/GXWlbPefPyw+y+u7niN9y98dqbfES9GmJGv\n",
       "sYlye4vs0ybRyZOLoGFZiiyvElJoEtjnI5uvXjRX4jpKkaK3wY3n29baGpiDM9qp4OBklZmQPuyw\n",
       "Ltc1G+e+gHsXzKir1WTL/Cufcpk+xtHXzw5RrCjkWjLRufpmdQb/bj7xjD6yr7ChIvZFqv538CQf\n",
       "CKLFM1AiFH+WhoijPKXUHLtIP497Y3WhwQAAAGsBn/hqR/8DUkYQqjgPzADc3aEAAmpVVMvh1OHo\n",
       "F7Y8fQv0vCyur76dcAF2jXGxU0OYiRXbbC9mBXRk33vo3ByB5p4VX+Gkb8Y3R3KThsXOZMqOamOv\n",
       "ZWjq3pduvIr+xFer9J4FNacgTBTaOAAAAPBBm/tJ4Q8mUwU8L//+jLAHet19FeYAGjIP3uST3n2c\n",
       "MLIsTCjRkbFziNxf4QuoxfGIk0ALHlnB3bpkQGEiGjgBpovT4PJebepwHjj3mPHHaXxw8kk+ZkU/\n",
       "WMPNQKpn9shHMoP7hkKrLGYOJyYCgNvH9szGgTWyLMAVCj3BVLFCeN7XScgPcyyrGBtyWvLFrW81\n",
       "pDlZrypdZYBvfigvPbWws/aCdjgMIhajGMQkELXaX0+WXHkHutGalvyWA6aiRYhaADM7VImgHsy2\n",
       "iShYBGmDwYEMT4xe6uOV6a9+dcNXEKyL3y/CxTr8N2MGHSplZg0AAABjAZ4aakf/A1ICyiZ8hEEF\n",
       "zSyxwBX31kXu48z8jSsYRllh2gXSWCoZo+op4P8/nUkdtVYGNOgHuGjZLJZLq0ELIihja9wetmAV\n",
       "pwC/DMY4Z5P3GZ4YaCMDDNLMRFxSOJ3f3Qp4AAABAEGaHUnhDyZTBTwv//6MsAdq43p+73s4AGje\n",
       "oKYARHVmGOJF1R0sJphJedgzE1wEOGulRVKNeJuE0EY5miFCshNILD3qsXAJeb5ECawPVRvPPCqG\n",
       "h+L4sdnTD//9aAQBOXbFaYu5y/QJSkGjDZiismTVjUGnlK8MKGsCILYFudpkc/NORCsUon452pXW\n",
       "U8LpCf1xQG8wv8eenh7bX7WM7JFjmhGofyWZ/POdm6nXSVZrFma0SzEB/uiKsGCGV7QOsJAHqvVd\n",
       "cSs8tihuLF5kEt3/cbiaOaHcNuWWvKXCvXO7QaF3ZX+SHOBtX5WzLRx9TisCxOubpeKwD9Uk9Myq\n",
       "LSUAAABmAZ48akf/B5d5jg7fG1/ykO6WPJDt6OAAB/OaGFqpczfppeIj92L85iItUMFIpRq+JhDE\n",
       "EbhascUEuvl773Dh6UGJ4Hv1jlYqfozb2dWIntUAvGhbVGo8sTwFC5al+QPX/RjzREqJAAAA+0Ga\n",
       "P0nhDyZTBTwv//6MsAeHvdwJJEiVztVPwAc2Jy08D//DXF/5Vl671biSDWrh9YjlCuzhWAYXfCOY\n",
       "Z7hUi5MZrz0Wez0tiHKX/g44O6aSWMlGeJCEtDzsgdAaQnXnreFA5bagt30q5FNituq2lT57fxrh\n",
       "jRS7RO8Gffcf+hom3EEimmis0UqhcJp+Q40n7+UPT1vTV4G/45FeAXiXL/lHyVESbXPX2IBMQON7\n",
       "XwAU1aBT3XiWvDQafU5V0vM+sJSaEKFPNRJjmBJUnoSogyH0a9+GskDjOZg6yJ6tIE4m8HjLitGQ\n",
       "h8QeHd4bO7HhVVyMJq6G89EpX+WJAAAAYQGeXmpH/wNb7a0uGdthoToUP6Tg16SsrpUeU3kKHEQK\n",
       "/5OEKimz8zkQupq+dnDIWic95lIihQ0JVS2iURxoi1qlbgkZ5gZCHBVO2nK8FKvJVax8HCQBmYvJ\n",
       "gsv1R0SDucgAAADJQZpBSeEPJlMFPC///oywBy4lElkpqMvMziHvBZe5J8h7pt7IM6Nh1QFX7/9A\n",
       "QASxUHuPx0KUuLGeHoSJm7FTGjJXIafmCRBTBO7+cUo7FUkiGE3nuWSB1PY640mQohOKxIf1enCd\n",
       "Q0K/QhkmF2sOSwYcHc5VGw/LIMLdsQHWlxDweEJq0pjBm0PGxTkG2gtX1jKBt1IIHhumoCCodInq\n",
       "XCwn5+ul/c7cuVwpPUleZ6ClSJL+tgKa9ocL61GTjrBvGS3SaF7+zqnpAAAAXQGeYGpH/wI8e1ah\n",
       "GOP/ppdPZ3GxJQd6coSCcK11f4AnYZlYmQ/ph1cNBnJcCKFzYXLlMv0zuyONDBa+AnBgL16S7xMo\n",
       "f5FIwLO+KAJ8xVEwjqzbpMyvh/luR58zugAAAPNBmmNJ4Q8mUwU8L//+jLAEYBcz5CPFKbmV5ICg\n",
       "Auo9cea4MVbcJexxkyWZYFmaYECq6HL3IcZ4YDyeXvfusjGDJV2v7P/q4b/01T7JQ5v2Auz/+pY8\n",
       "ci3dwnA8J5s8cc4CjxEfAFMMIJrkptuJf/JsVOs6E9lo3HB73tF9iUUCJqE5Ij99nOMeoBkdxF7T\n",
       "o0aeBaiEwS2meBuefbLySsA3OwmFfsKNkCn6r5B/9C7C4zCaRCUx44cFYJxusJfpCQGpg5ldmYzn\n",
       "RrRIvxzGBrouPGvBh/OVA7IvCu5i6QHdxhd2nxwu+Lh0nNvPsrwSf/hZPNEAAABdAZ6Cakf/AjrA\n",
       "m/gxfPS/c7qmmZEk5pjuRD5ypuaH1ZgdRiDxtEmHxEvf+ANwAmRewJ4ZBBfSJp8RWKT61WS2Q3zp\n",
       "HdOtFpD/yYBwJ3sxXYhi3zwRaj0pZMnLx9nAAAAA6kGahUnhDyZTBTwr//44QBC/QIiA9fQh4t68\n",
       "jTeyIsrdkBn28TIYN2BC4Q63Yquyryn5oiZmYDReKdjtsbH//afS75f7fVZ9gEzGBMjOi045Xmo+\n",
       "CuwVq8xvSjmdnvRkKvO5eot5CUjmUKPtFg6ANNvqcnFs0+YGdMj01afNDlz+KQUXSCc2TXlLo9G/\n",
       "whVNpkPhh0xuchNPKeBWqlHTrWxGqQ9V3FBBQBm0Ki0l4Mq0MPn6LfK13mtHbODSJZs25nqF3AFs\n",
       "7HiKkJjZEijBJ7SnFsol3UV63T2auUZ0LiuTvD4Bx4idqzC0hQAAAGMBnqRqR/8CO8suFeSHWUjf\n",
       "JoxR5uQMqRHq667n3iulTt00chg/YoG2CTPVW/myRB96KH58DIKBg93u6p8dzkPwaZA3MhD5uRx4\n",
       "NmPc0xVIm6LDMNcWNzukMT/UBzokF0UDPOEAAAEeQZqnSeEPJlMFPCv//jhAET8/Cy/sQA2YPKWg\n",
       "DbUzCD63/QIUFo+uDL1A/wY8WRk34X9YpeGWzYwG4lEnEwYaKKAhlZ97bwCb79eidy/baqKtvbSb\n",
       "kzsdv7Dl2g6/UXZgGwlGMtF85dx56p203+9z2luIfeBMci5VAie+/SpK6EWGz2o2BtSpDKiFz8bf\n",
       "hFcnFnoybtf9Uer/X+XSssovT8gZijpl5KdoL6EhmJ1U6dtWDmFwsHm5+vQAx7lOPm75AhFTk67y\n",
       "O+mJ1kEJWmyT8+CvmY5Ze86pEhTG2FrwWZ8FbVeCjzBpoVynVp8RINQcJHnQID7S+6TiXs0AtSFR\n",
       "S9VUTXhgtsIy6Gnm4abtAmJeMUv22LNfU5/5mSNnlQAAAGUBnsZqR/8CS+838HH2/wzL7mHPui4r\n",
       "S7peme4f1GQHgaKI2zDNXiHQHIzbeIR/k2V0kx/Ny9biicmbNpCPUH0BsnV7TFpW5iDfFj0qUVVy\n",
       "4A8zBnwXvWpDDwmMhBOP9AvAxLw/wQAAAQBBmslJ4Q8mUwU8K//+OEAROyNuK/0VMi8gsulqoBYr\n",
       "XxiAI3b/j6W9boYOCsQuQljJZs37jzW1f6okPbyKqM8WoQl437bHOhYdv1PxMSkTu6kTw+ef44l2\n",
       "Cic5MOtkad8CVerhtmxENJm9MUAnC/B1Q7pP3Xs+RPlTpZ/7T0lZP49vT1oiAHNM1YC6bmnnXMgS\n",
       "tNAgOctjmmiAyONaUZtcwYBOiANU/9DK0KGAK50+qjJ2AwBI1e6mr16hCchzx7ebHZPlFGcMZlbd\n",
       "ttnmfCrDuSAlMF3CVmyM+7FOv7Sj6fD77PdZA4OuTYT+pWhefFydntGlFN1wxUI4zS8s+K6AAAAA\n",
       "XwGe6GpH/wJKwJv4HsSSB5H6ris1r/106Bwce52iOfv/5cpZQdDcicOiJIUggXkWxWZkGPRc2qH3\n",
       "8bE+9bQu0EgTFJfJBNwbXoz1mxHmUx/Ez1cmXmbclPr4fNWWzIHDAAAA4UGa60nhDyZTBTwr//44\n",
       "QBE/PwzDSg7o6KJDNlWeQBVN0WWqaernp9cqvfr5iTFjVW6hErh86H6HdnLw/BFw2GbfD2hF69sL\n",
       "8lDJtNN0diMsu3qN+h/uaxRfZq8NcEe83IvA395p4hUqZCc1Sj0WMLX4dF+zZZcMBSqGiGJrIF6x\n",
       "XLyBvr3MwG0sA6NP8nAf61UIfZlVG1tpfQhJqgqU/0pz/XjUsHCLEDvq97d9y7ldN1K/9cb3ytkm\n",
       "ah83L9q5+c3YT8X+3os0VVS8wLExVe6SxHUiLeSdJswuJtnzdx3IqQAAAGYBnwpqR/8CSsCb+DpG\n",
       "J7CMbetmo4LzmunXTmg+iP4x8P6mYwUUQ5MwlAL8ATnl8lveLVaBJc6b7OUjjXO7LhBc6Q2jyXMZ\n",
       "jUS+y230LS1wyAuh1GRZsBZy6ZEcEE3H/dS9pJJq+0gAAADcQZsMSeEPJlMCF//+jLAEoA7LOnzs\n",
       "jmHB4OuBBADrBpFwbFFhEANTBHIPKyFigcguPARqkprB3zp2GyUxg84pki3A4kyfk0JV5BelPOht\n",
       "iTCHTpxDPV07zIPpItzWhR/7df1wHWS1sQ/Sk8Vj7DDCOzjoRkcs4OMADJbUiEB7S2cnkWys4g07\n",
       "hvm2OJ/vYgGOfwZ/p/VuCdKFV/Dez01n48prHk4HX9a5vnbCzFQPepcfvUHesrLyLph4XWUxL0SJ\n",
       "vN3vlbMzJjronhwLnVRisa7Y3q98Si5CoOqRMAAAANdBmy5J4Q8mUwURPC///oywBKAXNAruYm+2\n",
       "Uq/MAA43/mglXQHdQlVc+G0MyfRpGBx4CQa9J8cXiXi0MF/Sn7VwRB/zxtDNwqWLmRI3oVgg80gd\n",
       "qQIoWEQvctihRbDrm1xuYAxLQYRmZAK5fL8Ymx9YjTcD780hURGzNNZwD/E4a5Swh1EdjHkKmpOW\n",
       "Y7u2zYZykW03A5skohPlY+f7WCADZJ5R8Tj/JmS2lpIs9uKJU0f5mREM69Q9fkELFhGuS5AONey8\n",
       "ChTTFh9f2pH1UVJ5Tgpb3Mu6xwAAAFoBn01qR/8CWsCb+B7EkgeR+q4grDXReJFGSktudndJWBpk\n",
       "xmFlc0YKSpxOJsOPu8yrl8xbqzU/ZUT8Vn84V4q9aEdyxAlUxTHN1mVRN26mC3v2Mv1HO5AhprMA\n",
       "AADPQZtQSeEPJlMFPC///oywBKAXg+nBk6ouojl2LpR5v4OsqkJay9pMIxcjpgBtaZlBz/7SrD7n\n",
       "VCfOxKHwFQK+vwFwpzHXkciqt6HRhEGRsuibgGo7lxAKsJvg0yLYJUqflrK8TPCEticccEBW6aQO\n",
       "3zS5aGUX9Jx0hsXjOFiirzoifq6k9j5ls/u43PDLuhfQ61HIh9zkNpUqWfUi/Uh8MKWCOtOVYyB+\n",
       "9cQKp6g8CHIirfazeK9rGCJpkF3prLYvJk8BdmVEtmAAmA+F0guJAAAAYgGfb2pH/wJbyzCdlVJ3\n",
       "iCZh9ZsJtzSZRhP9t5UsfKZr37ECYmEq1zsc4iN9U8AMOaToGvclwDRtR3NN5q6f0K74Ouki6BOV\n",
       "Btumz9yffqKsRGuY6dpST7Q9yRBJd3mpiePWAAAA6UGbcknhDyZTBTwv//6MsATAFzLR+RsCqFaL\n",
       "pCQA0Hx7Nm4BsvkC3c/BBtIsinfhSdr7ICENLPVMrFrXGWYTIZVXjUYkPzIBMIVGGlS2aGu2uR+/\n",
       "Be5YmyRAQfKP4FIOGmCz/1zhBsiYjbBjm9TxhmDN/rfEmLBwgXersuEv0e6+itJec2u+k0bm279G\n",
       "Bdc3Ibcc4ADBHjM+XIQigPycruPLi0zudxIwE3SOfBfeOw4h0wDKvFyJM5XBcVH2hEg7BEo1IL+O\n",
       "/FQAn/CnbR/PGgb7KODdBuoJdHD40q81nYBln904nUPUOIpgAAAAYgGfkWpH/wJqwJv4MUk/mDkD\n",
       "2LxIkUCHY2GwFrbQMRoLSFwzEYkry9dEzfGWTMldvtKL8ZqKZPRjvOsX/nUXpUU95FtOZzry8vf+\n",
       "BwrSc190vsc+UYOnG/gVlHljG57/AjrVAAAAqkGblEnhDyZTBTwv//6MsATAFzLR+MmtL1MJhgBB\n",
       "xcZy70NePLHi0SMLahwynROyFakbhreegj6btnTKoqN5mWtYJrzewZSY6zjKRkfe/KO03Fw+dJor\n",
       "8tRYRovjvXkryFMvBCWh6fFHuGeA7u2LzlygGBiRjhcydG192gBLX/gHDwjDxxbDh0t4xFa3Ras0\n",
       "B14UOALXObvP73Jc3hdzZHpZvfoIqssEeQk/AAAAYAGfs2pH/wJqwJv4HsSYnf3nhAdKptJlN3FC\n",
       "E3FfZHJUonNUWcz0E9rUjDV+T11uXAbzz1pe3y1Tmth8/OeaSIvQ2sWmC7btGXBWTKNZgT/Xjucb\n",
       "9ZD5meRLnT6Cw40YnAAAAOpBm7ZJ4Q8mUwU8L//+jLAE4HuQBm+pQlvYjxDm/xjXNvZvc0VigReB\n",
       "v0TwURIW3OFzhIsjxOlyBas8oBCAKtlT4kYBpy+VRLVuCh4hgkLZi1BWZCGF4miZ/9cqHv9k1FS9\n",
       "/odacrYn0CRhDtxCR3QKL64J0O4Dbawz/5sfJA9NMyBQaDjDLPQr1aGaQnouJaaNTm+/fpouGABW\n",
       "NYRfQHcSh7PIjdHBn+tioZb9C6729wcCiXtvie5pVyrF4eBTXdM824FDb0xzLnXJIz/uzprhnWXf\n",
       "SFv7C0LoW1oZriKKZBWpOH+OZ27ol5EAAABdAZ/Vakf/Anx7VqEY4+wL/fbQGfEQT7BODM0l+OA2\n",
       "SGIAHYc27PR/owVOMqg+HLWcnbcJum1H8Uhl2jT7XpMR/SEQyoGvauD5LBiz49vEc147LeVyamzA\n",
       "CI8OJYWEAAAAxkGb2EnhDyZTBTwv//6MsAThCtAsbqWLliLwBwSOcsDlqZDuXR9ZtvVrkJ/3fW+W\n",
       "bYBGHFrt7Uvy6NYCDnOMpcN8VVDHbc4ols/vdbSOVt4wMSilYBRh+onCFiAvsD+R+v93CVigbDb4\n",
       "X68MHlXrleq4qIa/bhSjDqfpScsEcgDj3BFFSF3sUQmWsELwTVE9/1rRH1awxL5aKV3GUMrZPG76\n",
       "JVh0qDYV0hMSNuIIm1DS2oUS3wNDdxxcJ2w2KipaUITLB3ERHwAAAFcBn/dqR/8CesCb/4lJP5g5\n",
       "A9jNFsvJObeOeDOKx0W9hXefCSj6iDj9HpzE9d4mrjRr8f6WqRVj/N3HVni+cz7tF91Hx52enrwq\n",
       "69ngcMZYYlbL7NYcjDkAAADTQZv6SeEPJlMFPC///oywBOAXMtH4g0SH6c97sdVhua27hKTkcaLY\n",
       "uJMAAmAiEwYvj18sQpM+2YIfZjSg+gcuXnPS4FDjpqPcBxIPyBAynYjuscp82Cxk87chVlPE8sqb\n",
       "NnBCZIxComa1rzR0BPdCD4t+C2cIX4I1Za4cgYp3LvH8Vne4BHMI3ZOaTVzXDJjNvyTyPQ8nwKvY\n",
       "y4G44qi2cWDyQPdwWhrZWFPP3ZGq6hJGJRa8ozA0VR1+JNv2FDMlSFhGexiXk8KpYl88DsGNsrQg\n",
       "oAAAAGMBnhlqR/8CesCb+B7EkgeQTGrki1V8do1VhFLFeojhBJgyOZ2dsGe3P+XzLI7ESsTPpA2T\n",
       "S6Abajo5T/f3lp717hKlU1Ems0mI3Cr9+xjjqcq+lz71/YJt23DgDxctfgzREXEAAADqQZocSeEP\n",
       "JlMFPC///oywBQVjg4lZ4Z1Yuon1CQBFSx8KFWYpzZw4enKzqE+pE0kC0g95eo01omP+QtoYG5bK\n",
       "3FwVgr4GR+XYulHoOPVYpjWKDPBIktIvpIpblPSPip1bclUIsr3nmpEFQid+cXz1Za/SQY7QTseM\n",
       "M0Gq2IgYRb6cgr4U46cfx6in2kP8S3KEoyc6LEXerJVECFBTHdKj9uC/yp8T4IqWtZyT2MAT3c7Q\n",
       "3qi9uiCNmNqb1ki36EqNkK0fT1X4fnjdlUXwebm2j8hlO5YRAWK/Mw2VSzLPaFpUBqzANRZgkgFz\n",
       "AAAAXAGeO2pH/wKNlrfS4n/ZRDn+j29SGTbwNrVgk9D6l2LDnG0YPdpkXbi4rZcoBc558D15b9uR\n",
       "xbCHD9NGewaPCnH4gfHx8yqKn08zxvFf6wZ7A9+pOXBEYZm2XMLrAAABDkGaPknhDyZTBTwv//6M\n",
       "sAUFYyrkAEc2AX0ccrs8rr0uToqgrZBW7yNzsbMsK1VOfcrWJrxFShOlAaK2n+SYAuVy7y7Vxkes\n",
       "jMNOLZ96AZtR2h2hsDSQlil9zg92yf7nsMzDpxDlNWjebmvdasuTfMrMNazgA5E9NnECPT7DpsuK\n",
       "dmadzzMMb2LdSLLmr2WN2oyqKOs3IM2noyHqlDdIF3tOAYiq10yiLILTbqVk8Ogd0/xUViz6quz+\n",
       "c5nF0U+CSsuK731DFamKTnGxoiSypa1pngtiBMeV4rgx1wLOkaGhiruklK5QMX/BdGQhYgtoO6LA\n",
       "NWnkEc/IlW/pRPWtYWn4hkHKzp9sZYbu+byIaQAAAGIBnl1qR/8CjCnNjNvEkWvLgTdDOafoga1B\n",
       "E327J/A3ai0BTTnjAhIzljtTohOxps9cxE1koqPCQMirDQBC9vqD7IBw6jUjlyb1giAbt9TRvhSt\n",
       "4hjuA+Hii/23CcFfqGSitgAAAOlBmkBJ4Q8mUwU8L//+jLAFBWODiVrho2bUv/A4HITjqUJlsPe/\n",
       "E8fFAsgls808jnIp5RMplvDROJrIBO9LHZUuenEil+j7xQ+yZbL2m+Dj8CzH8vDP63z1JJId1RvW\n",
       "fziBkn/YAL4xgDjAVBPr6Kq1oLOjcRj9lCjG1x6vOmjiSuysC8Woart6w3tRVnMvL2YvKNpN5YUU\n",
       "uEn4NqZQ6nhunSufMmujMMKDDPIgI304mwgijL868cqaw7i00hgnkw5nfV9AgIYuvh5k3VIHWQNw\n",
       "+Oqd8727DpAUVRFFzdt33Sz/NoyW/FhxvwAAAFoBnn9qR/8CjWjovthAYULkKGtJUoH2owRu7BZ0\n",
       "4KQ5mQK6lj1idayBHC6nq1MmaalcWB/1+QxTnIim5zaZ0lMxtVZbOetBUZZv+bnADpA4o1ilSdgE\n",
       "WzrE4QcAAADHQZpiSeEPJlMFPC///oywBS1jI81jDaKi52Hz9/2mAACMAOLjeYTfjPk/gqsO6W2p\n",
       "UwEfLjH+Fu6yE9rqwJH4z1iURdfjPmpku8QAz3eIGO7bqVn3YjShynqKyaTSzD/IlbE5kp48Lu/V\n",
       "+XQzKNVbxsViQsUOfrVDRw0bVVjPkxUu+prXMZzDNmob8ae9ZtJvCMAJ7/0xw6sYn7i8DjRwkvDK\n",
       "s6ByTcwWaBSydw957Ep57SV3neoJJwxK+kaAZ3+5scXNhZrMwAAAAGoBnoFqR/8CninNjPCDko+u\n",
       "K3tkgUSE/Jbhss5Ia+/+aZ3/AfDBifgAVVpAJpvqqVKXVkUptud4Zi8mK0PcI3U9gr8Sbb4WW/wA\n",
       "G/vglsLkU6BYbMirdEa0L6ol/TZleZgo7OPBjg1KKaqBAAAA2EGahEnhDyZTBTwv//6MsAUtYyOJ\n",
       "WletFdaeZc8Zul40v38IcKXybtJRshqn0ZEgTwW+FRXQjnOuEK8qMoTp7vLzF+AvB7g1w+j4mZJm\n",
       "bVG881SbwnvhKUORtFCWnpUsjCKV3AtFJfUb6sLuw86EDYwPC/UrxgSqUorfDZ6kxA1FFZ8a9OTx\n",
       "SjpEIdqLHre2DntOObOFsJ0RklpGi+pb+PMw/tfxQhazgbpcvlQpIiZ8VWJxz9xL5RK/PQFN8cfe\n",
       "g3orDq+nr3dSvDQIuRGDsn5bpCOUwdIRMAAAAGABnqNqR/8CninNjNvEkgeQt42YdKlk9nrocTIG\n",
       "/xvRKodY4SIV4fLeI6PweZIOOLQVm1X2YUxxjq28ZypWuvOnxRqyRAdBdMOjPM/VOvAv5NlTuKo8\n",
       "arH7MQcSINn4BAUAAAERQZqmSeEPJlMFPC///oywBVeSuuJvbTgvOH9XFqGXIX8lFtf6aM7gAA2p\n",
       "WGuTz+7L4mpTelPBQf/46EaKvrR4pwZjak6w7u+if9n3wtXoe7Jx9CdyzqAyKJ0wDxgkEwwBfyHL\n",
       "ZFNc4OKO4u2kIqefIoi6QdJABpvFDKiS088q8BkYLcq2OX7aJ/8IPKJmXa64rTzGnCiwK6IApaDN\n",
       "WB98EZlN3oHEUR5yxC//6ZHQQQvOunlMFBqrvUWcGlCIuhL4FC+vBK4GLNKXAz2fAWbDwv2tWlyF\n",
       "/Typ+RooMoE9HWvmG6Z/IXys7w6nloL19zb1RMIUWClQQ10WD8A4eqT4+m7MkyCp2kFe9HkBQ2Z/\n",
       "CK+BAAAAcQGexWpH/wKxmA155X/MrAIsSIgLcDlOmIaH1N+AMmvIs1lXmZHG1IIbT539NMGbZUSn\n",
       "bbLFCOS5cBGRzZbWzRnW0Kp72W8nDvvlVsxF2VIwWGAPs9jAC3duCGGekSCbnt1b0HwM3gbtPpEp\n",
       "RxZAaG7BAAABFkGayUnhDyZTAhX//jhAFFPaqcvlaL9QeC1coOAO35djyZWbWLNiZDofevnQr+I6\n",
       "c+72oPCXU//cGo4L2uQdjNEUXtNvjIhEwcGdH9xGUnjJrrCKrh+1/slW9kGasWTy2+rKxOwRP1cR\n",
       "aKixCvotKaMMQnC286eWYfiGnYaZokK54Q5QJD9vfpiVqLCyZA+QcPFU3FxatOs5x/1VJvdP9nUS\n",
       "3aN5+3/S0Sz08Y9bIyUCHrKrvv1HKeT+15dTqM9JnfyW8qwp9VroI1QGJFymNkWTnpZlF2uxpcpk\n",
       "zBO82f5MvoS1MqpUT6Z5V/Ctjlz5yaC6oBJbFeuEbRjRo3LbxlyHmEs3/IN9poMJRYTUB8O8pE9z\n",
       "YhJxAAAAd0Ge50URPCP/AbCGMkzp8NiSIXeD9eXMKoqyV3ImtpaQIc9j2OQtpSN4HInPgYDKwIaI\n",
       "iwknu2om94iiukJK+xtriyXa2rwNBhaA1Jf1upxFA51RSGj+O4AWzKmaZsLd+rvORMhm3nZ8IlJJ\n",
       "Icr3tRmiQKBaLTHbAAAAXQGfCGpH/wKwKc2M28SSpgTzMxRXQj9+HIH931YEbvjEDAqEPsPTsBF5\n",
       "6Cqt0rkGbMZvnvD3JlrL3eUmjyWFipmxt0o/bGIFRSrnvRQ5k1N3IHH7UCmYNhASp4cl4AAAAL9B\n",
       "mwtJqEFomUwU8K/+OEAVLmgAGDy7FzJHwkcLsemYA3XwetHALuZEVNCPoHtqJvTXwgm4iWOjz4IJ\n",
       "CW6wTHCNXD27qM2LNBL5fhn3flL3I1mbhWLfqK2Fq/tSX4RHE09gSFP3hl1r+8eyuLlnM8LR2RHh\n",
       "3nVIfK1UeulGwjtQpVSkLgmb4LuCYVyeGtrEl/Uip6t67Fu2/PeU8My0lYdAd4Uy1B49Yr8S/5bc\n",
       "kx8usVcIfX88flVJhPZhx0sjhwAAAGMBnypqR/8Cw5gNeeV/zNOU30lXDm2GC5N/W3t6AchL5VOc\n",
       "Hhr5ahgSU1JfpYaMNf/elmiE5hFU7dnsdIxp+/khQzA3vI/LWqxLTEF/jmUYO244E1q23z7EAD79\n",
       "/uasfyvVU/oAAADvQZssSeEKUmUwIX/+jLAFhPtXa73MHjAPP4AgVLn7VvrQnNvmPhTCdsYVF5Ew\n",
       "o68EPPFuCjVnOJvt+M438tvzcii3ts8Vh7PCvHc327UzKHX51tHoHmqHeyHPrivLJutv1M6OguYT\n",
       "Xov/HBTn8ysZUS0dHE3diURzCN12rJ/38DQY9xjs+J3RPkONjmCJYQhRJgf4dRQqkitzxNsQdrr6\n",
       "eyHVrTwPx66ow6J0iMd4gLxNMsQjDUZYDebmzps3O/0RRssSF97c7LDrHMs+0JQcGQRgUCe/LxE0\n",
       "T24rn2Tm4mpmQpW68E+DVV8yFCKDAngAAAEgQZtOSeEOiZTBTRML//6MsAWDkjZib204jYvKEaYr\n",
       "6G2mAGzuyDOwwSdg1QF/5LS7W+zCSxjmTx5VOz0M7OKyz4oP5ls/G/mUsqY69zrvnhVuvoxnt9B+\n",
       "U6CmUbs9Py3zXzJkVX6IN56qRdjUEaMKNureCXk01oUQMQ+7oZakGSFiK0yTg/TadJefgR/Ux2kV\n",
       "uMTIa7CuDOmiASjt8VNUdLhLvM0UOXGkwI88KIhE9TcX0RZHeZl8FDpbbuOs23ZRTT/Z+khuy4fz\n",
       "gpHtYKjwdKsdz5i+Ombc26p19mwfbaU7Bh40fKazX/FwcsxTW8yo3xUYdJmjESVcwq/7RAkpiTvD\n",
       "VGuaVfjqIGXwhhlJ2R15F0WTXwOvXUJCmnaayB1hAAAAXwGfbWpH/wLCKc2M28SSB5H6dECFyNg+\n",
       "bOjXjRT/gBS+KkAAh35Jfj6w1lfkCPaxkTNFvkvWuM2S/gIC7P6B5kCrmvYA368am108NQ65HJUZ\n",
       "xBsDiR8yYL1MqW3GoGFBAAABDUGbcEnhDyZTBTwv//6MsAWDkjRLzR/eF8ki2Ekz1GzAcQBELKmY\n",
       "TlCnUqRVA2vK8vBOjoPwb+a/zlHNFm4dSHA/Yyv/yx3mnOqTGijsmFG98xvCktoG3PGbrRfTSwJe\n",
       "oG9I5++gG1iQqhe5iwNST7pASti5v/KT5N+/dOV4aqudTQA9TCaCeIBFN8GyQPXCBK84nb8rDmS9\n",
       "+ngyMKpf44fqRcv9odbK1CujluUUunayZ7rd64W2KrO/Ctm+htFpAux8hpqEloceJE+7/76NHTL9\n",
       "YhSbMfJ+MuUxgE0FRQAM7GrYDr8ap8aNec6zmFrnpNKvlu5Y6+gj0dFKw8pEo/wNrs/OfpX8Poom\n",
       "VCNhAAAAYQGfj2pH/wLCKc2M/EInsItemHtv/B2ABumbZqggr1FB62DbEG6MlFNaEdGT1wV+ToqK\n",
       "B4odn5tT/g1sscx2v43zuQZ6FKn12q2tgsFpEh403oUPIu3hfeBisxZKvVs31+AAAAEkQZuUSeEP\n",
       "JlMCF//+jLAFr5jrNU87VZAhdN6qZ/MMngfD9mmewf5uqOz6SMmVpAC2l5KdTQuWnf8Jyw3oR1Aj\n",
       "8so1SPzIG0jPo7ow6hny5IS7ua99ntL8lrHcH7GGFViDoF69ZEgfecRt6wwmB76EUUMZJPlqnO5Z\n",
       "9Ux9md9yPHq+pEY6NG2FsM1oOBR6ONJMeIDFXHrHJ65V1oXP0qFc73JHnqIJfvsKYzSwJPZja2GZ\n",
       "PtoRp4+PtdWq/6JHAjSJkkXG03Wl0SSpdpWEVkeZQN6kLYdUXxCv5kuGVjrRTIhb5txw4ctNFveA\n",
       "76wcfYjCogg19Bp8yZe+/HL3ZpyS+7G3xfDGQYeXW234qnF4AppDyMbQp0kz3o76yUUgR0bNCVJQ\n",
       "kwAAAIxBn7JFETwj/wHEyeaqWH4zEYXhXSETlSMc5+cn/KINrka81FQSxKAlIfbEKdUNpeaiJ5CR\n",
       "D0GZXqvgqPiOMYwslAYPKkGNP89gh4CKLFf6STwGWVxLZ3WUuVezRnbtus4O64SUdoH02MvadTyl\n",
       "c3OZWkBODe4hzDbs83TcDP8VEXq9gL5Qq7g6d3yAQQAAAGEBn9F0R/8C0+vCBnw77JuTpPsuLdrp\n",
       "SUvFAdcs8JXt2QVDvaATGnNz4rtwdxPkGiYPngDeMcVH5CroDJ43+DsYUCQdHiPU9F/YZK/iTKCc\n",
       "u+DC8mUXuDM8BjfYu4l0IH80AAAAZgGf02pH/wLUKc2M28SSpgT+CYXIuQkMhrrgltBTyTFUReZ5\n",
       "tC+/TqrkcfKowNQp7SSckrrZUaPcfZWDmgyOtPmpRDM/4ticErdiUF+vvf65Yc863dPwexYk0aeg\n",
       "EHfjJLGowV0aQAAAAPxBm9ZJqEFomUwU8L/+jLAF3vA0S8uKu5zQtQJtAJqFLqo6NAJeko2izHrj\n",
       "+3fcqQaF+OX5FqOFVbCjczncJvc/SyW8sFG/TRiTlPTaG2p6qcCvIFFVpOa7qgshtavukZslAnYL\n",
       "cEnZ7czyNEr9q28JmbEPfIjVsWnScKrA6rEQ5wS/ZUDlSUWNMAMy0ZiwM3v6DpwwLNG6ORCh/Rcs\n",
       "XCXUrMXFlbc3z3w4Z46F1IIBU8MhezBP2qOSaYIPVQmQ6glFdfVAiulBOAmTw1M+nE7vGIEdyAul\n",
       "eCWnuvlfpY7k3DJa29dLTrDsgAc5MACNFdoWZu7dgUbZrmyMaMsAAABZAZ/1akf/AueWt9Lif9lD\n",
       "+Xs/boAWE1t0/479rzm+DxiNwhfnebwfHKUh6iavyDbbwWbeDgT6Xrh76FBJ32xOpjOtFqglgyTz\n",
       "tQ66fm2L0rFz/DbYrpx8d4gAAAEJQZv4SeEKUmUwUsL//oywBd7wuMwB6rz7BrnflRNYbNMAK8nX\n",
       "CdKtE9LmAekEeBP7w+Ioa8YRCI2YJM17SXlzJmsqz2XHYfq9/tq5QKJmW79rqSP/JZBXeALwO1Zi\n",
       "YeC3kIJdv8av6gGRDMpduD6gswcDRcnDNQ2zjlaZ32kmfUSThhqBz02nh72uXsYNUHj5KnfCXoAR\n",
       "bhgM6GTLeFZ8ssccJKBHTJyxJWY/yezt79IOSP8PmBMalhe/KZr6mH7prBL5pfQtXj1Jkdb81FCI\n",
       "jCQFjDNdlAppdloEVmi0zhz284mifnbDtO0IHT641WWnUkQm0y2o7ai0YbDz8yPP1tocrVxr1929\n",
       "fQAAAG4BnhdqR/8C5inNjNvEmJ7mgdm3g1q/1XuOJoeqE9oiJPZOi9vRUtgVtPnGGTzA3RND4uwW\n",
       "TyJAVHDj5oLb6+oOi+xl1Kr5V6xfiS3I28u3DsYfUmZd1/pxS9xiwY+24s015gATpvgQEM8qOGAz\n",
       "4QAAAQRBmhpJ4Q6JlMFEwr/+OEAWXGfNmWfmNRNa2j277MvOi2UAwcb3rAU2IIoqKynj0PXEr2Cu\n",
       "Zej9y8s7w5FFMe4LLNGGlR6suvT8OeiQgHIxAB/clvDpMR36YVCfVySI8zNbBvh6TDrLo2zbAmRo\n",
       "zSxICBCC0KkWyjM+UO1lnNNugNm6XLRn02iLETCN8XLYX/dS0deKM1s0ucb+ofRUbDIvdoa0CZ/B\n",
       "KPofye91PiqxBUUWLap5kW2Mup8AED2dXjEDrLatNSxB0f1PZ/sFoIVLkjfGq7ZrckC28PUCIsmI\n",
       "cTgyctsDsnfqu28G9L/nAjW7mkyu0rzUOZ9husUwOE9TOTXagAAAAGsBnjlqR/8C5inNjQYlDomC\n",
       "lnp6het0AuhRdiqs2RNi90pRtcTYMN1Od/4ieg1ka8uTN5TrSRd6hHIQXNipA2SPqbmliO6n6YDr\n",
       "amzC6zk4YpB+/gdT+jfqxflHTsxuhsX2p9ykrfbvvYCIgQAAAL9BmjxJ4Q8mUwU8K//+OEAXGTfL\n",
       "ENXUMkQTqRx5CQUN70uHZ5xKgC40ATyPgLmf6VR56/pdtwGWxpBiGbqV/piZ7tgTjexu4X2Bup99\n",
       "yyE7cOi8QxdG8kBW1WFrkitfd97Lmmpj91pWIHPxBzKH+5Og+QbXK/Ja8pHXlWqMhimOo3pYdS6I\n",
       "864mHOHqI3C9yeW9GwGYM+EhI1oadMkYf3tt2DwahTiY/YrFUyqNTGBr3/Msfp9Gm+KHqJZ2KjZ7\n",
       "wAAAAGsBnltqR/8C+CnNjPCDkaevdPNwUW5+ncSCjaxMZBut34uc8xXt2mdGn8Mh7NpGYFrby0d6\n",
       "8uJJqj3aiX96coYBCcjzvplmEM0sjaKc/lU5brsY/AeneouQE3Ln7BJ4xlLmHi3Hh71tieFazwAA\n",
       "AKdBml5J4Q8mUwU8K//+OEAXGTo/En7UMkOPGebuDs1pAgv7gm2alTDRL9wpHeVkT6Lf5Img0sud\n",
       "pTWlN94KHWy5VK/6klir6lkOKQXxfxaYXxnXKB9/8nFEzP9/652U/cYCyDtMnj8jbSE6UPK6VoHR\n",
       "ZnwYhLQtLDlur/PQmcMD9RSyA+GpHJV9J/lF5ZQuzknRK6DFEDSJvjVFw5cOZJpPzmiEauVPZwAA\n",
       "AGUBnn1qR/8C+CnNjNvEkg2ETylS8r/AjTktZ34uEPADKucxqsFd0LTFlGp/FinUETVq7NQyqFz1\n",
       "TMxzTN+kKHBXonb+HhUMTXfoLRgwSTRdHa/GdvUSMn3Y1OzStHIS0wbonjDLbAAAAOBBmmJJ4Q8m\n",
       "UwIR//3hAFx/SfqNwHFvMOc1oWSdFW+cX/Zfx9sMtmNuv1sI5tIjbX4Ggzij1PP2oH30FXoYL7OU\n",
       "gAaFzeEuA68yzqLYzwVwyztHQKUGUF4lZcu/56K25d/nfjUVnzcVEXOcIFtfMJa/ynpcibnLbpWH\n",
       "BBPmgAM/U9BZjJOeNqFHBoBXb8I+4cf2bPO9+oDMyMTVhXHGQB2BPNdeLgbaWX2RsP7+dqcnn0+l\n",
       "Vrge4z62OtqT03v+B8n+em8Gm5J6Ra/lpVRnI4HINWTwgfkIPJDM7zuMC8x0QAAAAI5BnoBFETwj\n",
       "/wHlyh6qkUB2KC1z7CPHdnQsHDdQYlzdxG4oOkgktJvEo4KcQQ6HQ5RVVqESApfe68s4qfEhL7Yw\n",
       "qhGeHXM2drngvuIh+9nCPQhe1g3wADY7x7tqXZNYyBV5jq7JV77Zi1fT+rQryMT/JPT412Ih2jvp\n",
       "Ejwd6FAXV8azTpw3T9qOMHgy/YJzAAAAXgGev3RH/wMNcxqC9ExQFZVL5kvE9kBTsg/87EYZmIme\n",
       "DQUdvR1PdD3bBXSn9ydK077tr5Mt70gK0PlTGxmSahkSu7/wPlVo3+Shz76SXKBnK3cCxBtJyZpk\n",
       "QPiEPUAAAABnAZ6hakf/Awtzm456R8/pZPWq81mBtphNrEV331kl4Ao551yP/pkvylxuujR0No4m\n",
       "YXGNY7aNVeRGs6JEPuId7Lr8J21zHL8CodIEuQRO1xDEmsKfz98gK1cn4V5ZA3IzFzWWqIX7/QAA\n",
       "AHZBmqNJqEFomUwI//yEAWVwdTBno9L4iltcHlzrJQ8qj3DBqHYuRbQHjYz3ogtLjGIHJLjUpQHD\n",
       "MEDSLBo/S+sASTgcJ2XI2wi8b/j/PKyA0ZU4x17gOGT3Y4NOeuRLA1xgMteH+UwtL8lI9shEKD5Z\n",
       "ByzI3acEAAAHxm1vb3YAAABsbXZoZAAAAAAAAAAAAAAAAAAAA+gAAAfQAAEAAAEAAAAAAAAAAAAA\n",
       "AAABAAAAAAAAAAAAAAAAAAAAAQAAAAAAAAAAAAAAAAAAQAAAAAAAAAAAAAAAAAAAAAAAAAAAAAAA\n",
       "AAAAAAAAAAIAAAbwdHJhawAAAFx0a2hkAAAAAwAAAAAAAAAAAAAAAQAAAAAAAAfQAAAAAAAAAAAA\n",
       "AAAAAAAAAAABAAAAAAAAAAAAAAAAAAAAAQAAAAAAAAAAAAAAAAAAQAAAAAGwAAABIAAAAAAAJGVk\n",
       "dHMAAAAcZWxzdAAAAAAAAAABAAAH0AAAAgAAAQAAAAAGaG1kaWEAAAAgbWRoZAAAAAAAAAAAAAAA\n",
       "AAAAMgAAAGQAVcQAAAAAAC1oZGxyAAAAAAAAAAB2aWRlAAAAAAAAAAAAAAAAVmlkZW9IYW5kbGVy\n",
       "AAAABhNtaW5mAAAAFHZtaGQAAAABAAAAAAAAAAAAAAAkZGluZgAAABxkcmVmAAAAAAAAAAEAAAAM\n",
       "dXJsIAAAAAEAAAXTc3RibAAAALNzdHNkAAAAAAAAAAEAAACjYXZjMQAAAAAAAAABAAAAAAAAAAAA\n",
       "AAAAAAAAAAGwASAASAAAAEgAAAAAAAAAAQAAAAAAAAAAAAAAAAAAAAAAAAAAAAAAAAAAAAAAAAAA\n",
       "ABj//wAAADFhdmNDAWQAHv/hABhnZAAerNlBsJaEAAADAAQAAAMBkDxYtlgBAAZo6+PLIsAAAAAc\n",
       "dXVpZGtoQPJfJE/FujmlG88DI/MAAAAAAAAAGHN0dHMAAAAAAAAAAQAAAGQAAAEAAAAAFHN0c3MA\n",
       "AAAAAAAAAQAAAAEAAAMYY3R0cwAAAAAAAABhAAAAAgAAAgAAAAABAAAEAAAAAAIAAAEAAAAAAQAA\n",
       "AgAAAAABAAADAAAAAAEAAAEAAAAAAQAAAwAAAAABAAABAAAAAAEAAAMAAAAAAQAAAQAAAAABAAAF\n",
       "AAAAAAEAAAIAAAAAAQAAAAAAAAABAAABAAAAAAEAAAMAAAAAAQAAAQAAAAABAAADAAAAAAEAAAEA\n",
       "AAAAAQAAAwAAAAABAAABAAAAAAEAAAMAAAAAAQAAAQAAAAABAAADAAAAAAEAAAEAAAAAAQAAAwAA\n",
       "AAABAAABAAAAAAEAAAMAAAAAAQAAAQAAAAABAAADAAAAAAEAAAEAAAAAAQAAAwAAAAABAAABAAAA\n",
       "AAEAAAMAAAAAAQAAAQAAAAABAAADAAAAAAEAAAEAAAAAAQAAAwAAAAABAAABAAAAAAEAAAMAAAAA\n",
       "AQAAAQAAAAABAAADAAAAAAEAAAEAAAAAAQAAAgAAAAABAAADAAAAAAEAAAEAAAAAAQAAAwAAAAAB\n",
       "AAABAAAAAAEAAAMAAAAAAQAAAQAAAAABAAADAAAAAAEAAAEAAAAAAQAAAwAAAAABAAABAAAAAAEA\n",
       "AAMAAAAAAQAAAQAAAAABAAADAAAAAAEAAAEAAAAAAQAAAwAAAAABAAABAAAAAAEAAAMAAAAAAQAA\n",
       "AQAAAAABAAADAAAAAAEAAAEAAAAAAQAAAwAAAAABAAABAAAAAAEAAAMAAAAAAQAAAQAAAAABAAAD\n",
       "AAAAAAEAAAEAAAAAAQAABAAAAAACAAABAAAAAAEAAAMAAAAAAQAAAQAAAAABAAACAAAAAAEAAAMA\n",
       "AAAAAQAAAQAAAAABAAADAAAAAAEAAAEAAAAAAQAABQAAAAABAAACAAAAAAEAAAAAAAAAAQAAAQAA\n",
       "AAABAAADAAAAAAEAAAEAAAAAAQAAAwAAAAABAAABAAAAAAEAAAMAAAAAAQAAAQAAAAABAAADAAAA\n",
       "AAEAAAEAAAAAAQAAAwAAAAABAAABAAAAAAEAAAUAAAAAAQAAAgAAAAABAAAAAAAAAAEAAAEAAAAA\n",
       "AQAAAgAAAAAcc3RzYwAAAAAAAAABAAAAAQAAAGQAAAABAAABpHN0c3oAAAAAAAAAAAAAAGQAABLq\n",
       "AAABrAAAAPwAAACOAAAAdQAAANcAAAEGAAAAaQAAASIAAABuAAABAAAAAF8AAAEfAAAAggAAAGEA\n",
       "AABlAAAA4gAAAGQAAADtAAAAXQAAAOUAAABsAAAA/AAAAGUAAAD+AAAAbwAAAPQAAABnAAABBAAA\n",
       "AGoAAAD/AAAAZQAAAM0AAABhAAAA9wAAAGEAAADuAAAAZwAAASIAAABpAAABBAAAAGMAAADlAAAA\n",
       "agAAAOAAAADbAAAAXgAAANMAAABmAAAA7QAAAGYAAACuAAAAZAAAAO4AAABhAAAAygAAAFsAAADX\n",
       "AAAAZwAAAO4AAABgAAABEgAAAGYAAADtAAAAXgAAAMsAAABuAAAA3AAAAGQAAAEVAAAAdQAAARoA\n",
       "AAB7AAAAYQAAAMMAAABnAAAA8wAAASQAAABjAAABEQAAAGUAAAEoAAAAkAAAAGUAAABqAAABAAAA\n",
       "AF0AAAENAAAAcgAAAQgAAABvAAAAwwAAAG8AAACrAAAAaQAAAOQAAACSAAAAYgAAAGsAAAB6AAAA\n",
       "FHN0Y28AAAAAAAAAAQAAACwAAABidWR0YQAAAFptZXRhAAAAAAAAACFoZGxyAAAAAAAAAABtZGly\n",
       "YXBwbAAAAAAAAAAAAAAAAC1pbHN0AAAAJal0b28AAAAdZGF0YQAAAAEAAAAATGF2ZjU3LjgzLjEw\n",
       "MA==\n",
       "\">\n",
       "  Your browser does not support the video tag.\n",
       "</video>"
      ],
      "text/plain": [
       "<IPython.core.display.HTML object>"
      ]
     },
     "execution_count": 4,
     "metadata": {},
     "output_type": "execute_result"
    }
   ],
   "source": [
    "HTML(ani.to_html5_video())"
   ]
  },
  {
   "cell_type": "markdown",
   "metadata": {},
   "source": [
    "#### Example 2. Saving the movie\n",
    "\n",
    "A simple \"save\" command turns the animation into an mp4 movie file, that you can use elsewhere. "
   ]
  },
  {
   "cell_type": "code",
   "execution_count": 5,
   "metadata": {
    "execution": {
     "iopub.execute_input": "2020-07-08T04:44:25.511554Z",
     "iopub.status.busy": "2020-07-08T04:44:25.511200Z",
     "iopub.status.idle": "2020-07-08T04:44:28.201986Z",
     "shell.execute_reply": "2020-07-08T04:44:28.201655Z"
    }
   },
   "outputs": [],
   "source": [
    "ani.save(\"movie.mp4\")"
   ]
  },
  {
   "cell_type": "markdown",
   "metadata": {},
   "source": [
    "#### Example 3. Playing the movie\n",
    "\n",
    "Now that the movie is saved, we can just play it directly in html. This is a useful trick in case you have a movie that takes a long time to create. You can create and save, and let the next user just play the result."
   ]
  },
  {
   "cell_type": "code",
   "execution_count": 6,
   "metadata": {
    "execution": {
     "iopub.execute_input": "2020-07-08T04:44:28.205218Z",
     "iopub.status.busy": "2020-07-08T04:44:28.204878Z",
     "iopub.status.idle": "2020-07-08T04:44:28.207165Z",
     "shell.execute_reply": "2020-07-08T04:44:28.206836Z"
    }
   },
   "outputs": [
    {
     "data": {
      "text/html": [
       "<iframe src=\"movie.mp4\"></iframe>\n"
      ],
      "text/plain": [
       "<IPython.core.display.HTML object>"
      ]
     },
     "metadata": {},
     "output_type": "display_data"
    }
   ],
   "source": [
    "%%html\n",
    "<iframe src=\"movie.mp4\"></iframe>"
   ]
  },
  {
   "cell_type": "markdown",
   "metadata": {},
   "source": [
    "## In case of problems: ffmpeg\n",
    "\n",
    "For the animations above to work, your computer system needs to have the ffmpeg package installed. You will get an error if you don't have it.\n",
    "\n",
    "To install, you can open a terminal window in your Jupyter hub, and issue the following command:\n",
    "\n",
    "```\n",
    "    sudo apt-get install ffmpeg\n",
    "```\n",
    "\n",
    "Hopefully this gets you up and running. "
   ]
  },
  {
   "cell_type": "markdown",
   "metadata": {},
   "source": [
    "## Live Python Animation\n",
    "\n",
    "Sometimes we want to have Python code running, and plotting a result at the same time. This is handy when creating complex animations and you don't want to use the complex methds above.\n",
    "\n",
    "You do need to load in a couple of special commands, to control when the plot gets cleared and how quickly it is redrawn."
   ]
  },
  {
   "cell_type": "code",
   "execution_count": 7,
   "metadata": {
    "execution": {
     "iopub.execute_input": "2020-07-08T04:44:28.209256Z",
     "iopub.status.busy": "2020-07-08T04:44:28.208947Z",
     "iopub.status.idle": "2020-07-08T04:44:28.210671Z",
     "shell.execute_reply": "2020-07-08T04:44:28.210350Z"
    }
   },
   "outputs": [],
   "source": [
    "from IPython.display import clear_output\n",
    "from time import sleep"
   ]
  },
  {
   "cell_type": "code",
   "execution_count": 8,
   "metadata": {
    "execution": {
     "iopub.execute_input": "2020-07-08T04:44:28.217419Z",
     "iopub.status.busy": "2020-07-08T04:44:28.216490Z",
     "iopub.status.idle": "2020-07-08T04:44:50.117212Z",
     "shell.execute_reply": "2020-07-08T04:44:50.115263Z"
    }
   },
   "outputs": [
    {
     "data": {
      "image/png": "[encoded data removed]",
      "text/plain": [
       "<Figure size 432x288 with 1 Axes>"
      ]
     },
     "metadata": {
      "filenames": {
       "image/png": "/home/mikel/Documents/CallystoShortsJBook/_build/jupyter_execute/shorts/MatplotAnimation_16_0.png"
      },
      "needs_background": "light"
     },
     "output_type": "display_data"
    }
   ],
   "source": [
    "x = linspace(0,2*pi)   # the x axis values\n",
    "\n",
    "for t in range(0,100):    # our animation loop\n",
    "    plot(x,sin(x - t/10)) # plot a sine curve, shifted by t/10\n",
    "    show()                # show the plot\n",
    "    sleep(.1)             # wait for 0.1 seconds\n",
    "    clear_output(wait=True) # then clear the plot and go to next one"
   ]
  },
  {
   "cell_type": "markdown",
   "metadata": {},
   "source": [
    "## Caution\n",
    "\n",
    "The above animation code is live, and running Python code. This means it will NOT work in a static webpage or HTML output. But it is great for when you are working with real code."
   ]
  },
  {
   "cell_type": "markdown",
   "metadata": {},
   "source": [
    "[![Callysto.ca License](https://github.com/callysto/curriculum-notebooks/blob/master/callysto-notebook-banner-bottom.jpg?raw=true)](https://github.com/callysto/curriculum-notebooks/blob/master/LICENSE.md)"
   ]
  }
 ],
 "metadata": {
  "kernelspec": {
   "display_name": "Python 3",
   "language": "python",
   "name": "python3"
  },
  "language_info": {
   "codemirror_mode": {
    "name": "ipython",
    "version": 3
   },
   "file_extension": ".py",
   "mimetype": "text/x-python",
   "name": "python",
   "nbconvert_exporter": "python",
   "pygments_lexer": "ipython3",
   "version": "3.7.4"
  }
 },
 "nbformat": 4,
 "nbformat_minor": 2
}
