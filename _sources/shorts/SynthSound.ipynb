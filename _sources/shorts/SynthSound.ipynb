{
 "cells": [
  {
   "cell_type": "markdown",
   "metadata": {},
   "source": [
    "![Callysto.ca Banner](https://github.com/callysto/curriculum-notebooks/blob/master/callysto-notebook-banner-top.jpg?raw=true)\n",
    "\n",
    "<a href=\"https://hub.callysto.ca/jupyter/hub/user-redirect/git-pull?repo=https%3A%2F%2Fgithub.com%2Fcallysto%2Fshorts&branch=master&subPath=SynthSound.ipynb&depth=1\" target=\"_parent\"><img src=\"https://raw.githubusercontent.com/callysto/curriculum-notebooks/master/open-in-callysto-button.svg?sanitize=true\" width=\"123\" height=\"24\" alt=\"Open in Callysto\"/></a>"
   ]
  },
  {
   "cell_type": "markdown",
   "metadata": {},
   "source": [
    "# Creating synthetic sounds\n",
    "\n",
    "Sound on a computer is represented as a list of numbers. These numbers are translated into an electrical signal that is sent to the computer's speaker (or headphone) to set up vibrations in the air that our ears can hear.\n",
    "\n",
    "An important parameter is the number of samples per second that are sent to the computer. Typical choices are 8000 per second for low quality sound, then 44100 or 48000 per second for higher quality (this is CD quality sound). This number is called the **sample rate**, usually denoted Fs in our code. \n",
    "\n",
    "Note that some computers have poor quality speakers, so you may not hear the difference. \n",
    "\n",
    "To set up the Jupyter notebook to deal with sound, we run the following two toolboxes.\n"
   ]
  },
  {
   "cell_type": "code",
   "execution_count": null,
   "metadata": {},
   "outputs": [],
   "source": [
    "from numpy import *    ## for numerical functions\n",
    "from IPython.display import Audio  ## to output audio"
   ]
  },
  {
   "cell_type": "markdown",
   "metadata": {},
   "source": [
    "## Example 1 - noise\n",
    "\n",
    "Let's just create a list of random numbers, and play it out. It should sound like random noise. We use a sample rate of 8000. \n",
    "\n",
    "Don't forget to press \"play\" on the audio tool that appears. "
   ]
  },
  {
   "cell_type": "code",
   "execution_count": null,
   "metadata": {},
   "outputs": [],
   "source": [
    "Fs = 8000\n",
    "signal = random.randn(Fs)\n",
    "\n",
    "Audio(data=signal, rate=Fs)"
   ]
  },
  {
   "cell_type": "markdown",
   "metadata": {},
   "source": [
    "## Example 2 - pure tone\n",
    "\n",
    "A sine wave sounds pleasant to our ears. It is easy to create using the mathematical functions available in Python.\n",
    "\n",
    "440 Hz  represents A above middle C on the piano. "
   ]
  },
  {
   "cell_type": "code",
   "execution_count": null,
   "metadata": {},
   "outputs": [],
   "source": [
    "Fs, Len, f1 = 8000, 5, 440  ## sample rate, length in second, frequency\n",
    "t = linspace(0,Len,Fs*Len)  ## time variable\n",
    "signal = sin(2*pi*f1*t) \n",
    "\n",
    "Audio(data=signal, rate=Fs)"
   ]
  },
  {
   "cell_type": "markdown",
   "metadata": {},
   "source": [
    "## Example 3 -  tone with harmonics\n",
    "\n",
    "A sine wave sounds pleasant to our ears. We add harmonics to get some interesting, tonal sounds. We use the power function (seventh power) to get something nice. "
   ]
  },
  {
   "cell_type": "code",
   "execution_count": null,
   "metadata": {},
   "outputs": [],
   "source": [
    "Fs, Len, f1 = 8000, 5, 440  ## sample rate, length in second, frequency\n",
    "t = linspace(0,Len,Fs*Len)\n",
    "signal = sin(2*pi*f1*t)**7  ## the 7th power introduces harmonics\n",
    "\n",
    "Audio(data=signal, rate=Fs)"
   ]
  },
  {
   "cell_type": "markdown",
   "metadata": {},
   "source": [
    "## Example 4 - two tones\n",
    "\n",
    "The sum of two sine waves, with close frequencies, creates beats that we can hear."
   ]
  },
  {
   "cell_type": "code",
   "execution_count": null,
   "metadata": {},
   "outputs": [],
   "source": [
    "Fs, Len, f1, f2 = 8000, 5, 440, 442  ## rate, length, frequencies\n",
    "t = linspace(0,Len,Fs*Len)\n",
    "f1 = 440.0\n",
    "f2 = 442.0\n",
    "signal = sin(2*pi*f1*t) + sin(2*pi*f2*t)\n",
    "\n",
    "Audio(data=signal, rate=Fs)"
   ]
  },
  {
   "cell_type": "markdown",
   "metadata": {},
   "source": [
    "## Example 4 - chirp or sweep\n",
    "\n",
    "Finally, we do a high resolution sound (44100 sample rate, or CD quality) to create a tone that runs from low to high frequencies. \n"
   ]
  },
  {
   "cell_type": "code",
   "execution_count": null,
   "metadata": {},
   "outputs": [],
   "source": [
    "Fs = 44100\n",
    "Len = 10\n",
    "t = linspace(0,Len,Fs*Len)\n",
    "f1 = 1000.0\n",
    "signal = sin(2*pi*f1*t**2) ## t**2 creates the increasing freq's.\n",
    "\n",
    "Audio(data=signal, rate=Fs)"
   ]
  },
  {
   "cell_type": "markdown",
   "metadata": {},
   "source": [
    "[![Callysto.ca License](https://github.com/callysto/curriculum-notebooks/blob/master/callysto-notebook-banner-bottom.jpg?raw=true)](https://github.com/callysto/curriculum-notebooks/blob/master/LICENSE.md)"
   ]
  }
 ],
 "metadata": {
  "kernelspec": {
   "display_name": "Python 3",
   "language": "python",
   "name": "python3"
  },
  "language_info": {
   "codemirror_mode": {
    "name": "ipython",
    "version": 3
   },
   "file_extension": ".py",
   "mimetype": "text/x-python",
   "name": "python",
   "nbconvert_exporter": "python",
   "pygments_lexer": "ipython3",
   "version": "3.7.4"
  }
 },
 "nbformat": 4,
 "nbformat_minor": 2
}
