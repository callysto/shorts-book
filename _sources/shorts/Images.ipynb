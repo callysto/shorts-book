{
 "cells": [
  {
   "cell_type": "markdown",
   "metadata": {},
   "source": [
    "![Callysto.ca Banner](https://github.com/callysto/curriculum-notebooks/blob/master/callysto-notebook-banner-top.jpg?raw=true)\n",
    "\n",
    "<a href=\"https://hub.callysto.ca/jupyter/hub/user-redirect/git-pull?repo=https%3A%2F%2Fgithub.com%2Fcallysto%2Fshorts&branch=master&subPath=Images.ipynb&depth=1\" target=\"_parent\"><img src=\"https://raw.githubusercontent.com/callysto/curriculum-notebooks/master/open-in-callysto-button.svg?sanitize=true\" width=\"123\" height=\"24\" alt=\"Open in Callysto\"/></a>"
   ]
  },
  {
   "cell_type": "markdown",
   "metadata": {},
   "source": [
    "# Including Images\n",
    "\n",
    "An image is included using the Markdown language, or by using HTML code within Markdown.\n",
    "\n",
    "The image will \"live\" as an time that is loaded into a Markdown cell. The Markdown syntax to insert an image is straightforward: start with an exclamation point, then include text and file names in square and curved brackets:\n",
    "\n",
    "```\n",
    "![Any text here](yourImage.jpg)\n",
    "```\n",
    "The name of your local image file goes in the curved brackets. The text in the square brackets is loaded only if the computer can't find the image file. \n",
    "\n",
    "This is useful for when you are loading in an image from the internet -- the link might fail, so you can have some text instead. \n",
    "\n",
    "When you need more control over the image display, you can use HTML syntax. For instance, to control the width of the displayed image, use the following in your Markdown cell:\n",
    "```\n",
    "<img src=\"yourImage.jpg\" alt=\"Alternate text\" width=\"200\"/>\n",
    "```\n",
    "\n",
    "Look at the following examples to illustrate the ideas. "
   ]
  },
  {
   "cell_type": "markdown",
   "metadata": {},
   "source": [
    "## Example 1\n",
    "\n",
    "Here is a local PNG file displayed. The code is\n",
    "```\n",
    "![Callysto Logo](CallystoLogo.png)\n",
    "```"
   ]
  },
  {
   "cell_type": "markdown",
   "metadata": {},
   "source": [
    "![Callysto Logo](CallystoLogo.png)"
   ]
  },
  {
   "cell_type": "markdown",
   "metadata": {},
   "source": [
    "## Example 2\n",
    "\n",
    "Here is a remote PNG file displayed, loaded in from the internet. The code is\n",
    "```\n",
    "![Image of Yaktocat](https://octodex.github.com/images/yaktocat.png)\n",
    "```"
   ]
  },
  {
   "cell_type": "markdown",
   "metadata": {},
   "source": [
    "![Image of Yaktocat](https://octodex.github.com/images/yaktocat.png)"
   ]
  },
  {
   "cell_type": "markdown",
   "metadata": {},
   "source": [
    "## Example 3\n",
    "\n",
    "Here is a local PNG file displayed, in HTML syntax. Here, we can control the width of the displayed image. The code is\n",
    "```\n",
    "<img src=\"CallystoLogo.png\" alt=\"drawing\" width=\"200\"/>\n",
    "```"
   ]
  },
  {
   "cell_type": "markdown",
   "metadata": {},
   "source": [
    "<img src=\"CallystoLogo.png\" alt=\"drawing\" width=\"200\"/>"
   ]
  },
  {
   "cell_type": "markdown",
   "metadata": {},
   "source": [
    "## Example 4\n",
    "\n",
    "Finally, here we load in a remote PNG file for display, in HTML syntax. Here, we can control the width of the displayed image. The code is\n",
    "```\n",
    "<img src=\"https://octodex.github.com/images/yaktocat.png\" alt=\"drawing\" width=\"200\"/>\n",
    "```"
   ]
  },
  {
   "cell_type": "markdown",
   "metadata": {},
   "source": [
    "<img src=\"https://octodex.github.com/images/yaktocat.png\" alt=\"drawing\" width=\"200\"/>"
   ]
  },
  {
   "cell_type": "markdown",
   "metadata": {},
   "source": [
    "[![Callysto.ca License](https://github.com/callysto/curriculum-notebooks/blob/master/callysto-notebook-banner-bottom.jpg?raw=true)](https://github.com/callysto/curriculum-notebooks/blob/master/LICENSE.md)"
   ]
  }
 ],
 "metadata": {
  "kernelspec": {
   "display_name": "Python 3",
   "language": "python",
   "name": "python3"
  },
  "language_info": {
   "codemirror_mode": {
    "name": "ipython",
    "version": 3
   },
   "file_extension": ".py",
   "mimetype": "text/x-python",
   "name": "python",
   "nbconvert_exporter": "python",
   "pygments_lexer": "ipython3",
   "version": "3.7.4"
  }
 },
 "nbformat": 4,
 "nbformat_minor": 2
}
